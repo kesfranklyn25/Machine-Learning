{
 "cells": [
  {
   "cell_type": "markdown",
   "metadata": {
    "application/vnd.databricks.v1+cell": {
     "cellMetadata": {
      "byteLimit": 2048000,
      "rowLimit": 10000
     },
     "inputWidgets": {},
     "nuid": "3e1a9ada-22ee-4829-b64f-44b3e8516e65",
     "showTitle": false,
     "title": ""
    }
   },
   "source": [
    "Name:         Francis Isimhanze\n",
    "StudentID:    @00713778\n",
    "Course:       Big Data Tools and Techniques"
   ]
  },
  {
   "cell_type": "code",
   "execution_count": 0,
   "metadata": {
    "application/vnd.databricks.v1+cell": {
     "cellMetadata": {
      "byteLimit": 2048000,
      "rowLimit": 10000
     },
     "inputWidgets": {},
     "nuid": "a4590a35-a3c1-43e5-8009-96fc8fa8d746",
     "showTitle": false,
     "title": ""
    }
   },
   "outputs": [
    {
     "output_type": "stream",
     "name": "stdout",
     "output_type": "stream",
     "text": [
      "clinicaltrial_2023\n"
     ]
    }
   ],
   "source": [
    "# Define the file to work with\n",
    "filename = 'clinicaltrial_'\n",
    "years = '2023'\n",
    "filename = filename +years\n",
    "filepath = 'pharma'\n",
    "print(filename)"
   ]
  },
  {
   "cell_type": "code",
   "execution_count": 0,
   "metadata": {
    "application/vnd.databricks.v1+cell": {
     "cellMetadata": {
      "byteLimit": 2048000,
      "rowLimit": 10000
     },
     "inputWidgets": {},
     "nuid": "613945d6-498f-44f4-8eaf-44868eb33c70",
     "showTitle": false,
     "title": ""
    }
   },
   "outputs": [],
   "source": [
    "# Assumption: This work is centered on the files made available for this assessment work\n",
    "# Thses codes works for the said files\n",
    "if filename == 'clinicaltrial_2023':\n",
    "    rowNo = 14\n",
    "    delimiter = '\\t'\n",
    "    split_str = '\\\\|'\n",
    "    spliter = '-'\n",
    "elif filename == 'clinicaltrial_2021' or filename == 'clinicaltrial_2020':\n",
    "    rowNo = 9\n",
    "    delimiter = '|'\n",
    "    split_str = ','\n",
    "    spliter = ' '\n",
    "else:\n",
    "    print('Enter The Correct Number of Attributes or Fields in Your Dataset')"
   ]
  },
  {
   "cell_type": "code",
   "execution_count": 0,
   "metadata": {
    "application/vnd.databricks.v1+cell": {
     "cellMetadata": {
      "byteLimit": 2048000,
      "rowLimit": 10000
     },
     "inputWidgets": {},
     "nuid": "c7c3660d-285d-4689-88fe-226a2c85d5ce",
     "showTitle": false,
     "title": ""
    }
   },
   "outputs": [],
   "source": [
    "# Read the CSV file into an RDD\n",
    "rdd = sc.textFile('/FileStore/tables/' + filename + '.csv')\n",
    "header = rdd.first() # Extract the header\n",
    "rdd = rdd.filter(lambda row: row != header)\n"
   ]
  },
  {
   "cell_type": "code",
   "execution_count": 0,
   "metadata": {
    "application/vnd.databricks.v1+cell": {
     "cellMetadata": {
      "byteLimit": 2048000,
      "rowLimit": 10000
     },
     "inputWidgets": {},
     "nuid": "0ae5de4e-831d-4135-a5c9-f0872cec9cbc",
     "showTitle": false,
     "title": ""
    }
   },
   "outputs": [
    {
     "output_type": "stream",
     "name": "stdout",
     "output_type": "stream",
     "text": [
      "\"Id\tStudy Title\tAcronym\tStatus\tConditions\tInterventions\tSponsor\tCollaborators\tEnrollment\tFunder Type\tType\tStudy Design\tStart\tCompletion\",,,,,,,,,,,,,,,,,,,,,,,,,,,,,,,,,,,,,,,,,,,,,,,,,,,,,,,,,,,,,,,,,,,,,,,,,,,,,,,,,,,,,,,,,,,,,,,,,,,,,,,,,,,,,,,,,,,,,,,,,,,,,,,,,,,,,,,,,,,,,,,,,,,,,,,,,,,,,,,,,,,,,,,,,,,,,,,,,,,,,,,,,,,,,,,,,,,,,,,,,,,,,,,,,,\n"
     ]
    }
   ],
   "source": [
    "print(header)"
   ]
  },
  {
   "cell_type": "code",
   "execution_count": 0,
   "metadata": {
    "application/vnd.databricks.v1+cell": {
     "cellMetadata": {
      "byteLimit": 2048000,
      "rowLimit": 10000
     },
     "inputWidgets": {},
     "nuid": "7b929071-95e2-4cd8-83f4-2fd473ea4327",
     "showTitle": false,
     "title": ""
    }
   },
   "outputs": [
    {
     "output_type": "execute_result",
     "data": {
      "text/plain": [
       "[['NCT03630471',\n",
       "  'Effectiveness of a Problem-solving Intervention for Common Adolescent Mental Health Problems in India',\n",
       "  'PRIDE',\n",
       "  'COMPLETED',\n",
       "  'Mental Health Issue (E.G. Depression Psychosis Personality Disorder Substance Abuse)',\n",
       "  \"BEHAVIORAL: PRIDE 'Step 1' problem-solving intervention|BEHAVIORAL: Enhanced usual care\",\n",
       "  'Sangath',\n",
       "  'Harvard Medical School (HMS and HSDM)|London School of Hygiene and Tropical Medicine',\n",
       "  '250.0',\n",
       "  'OTHER',\n",
       "  'INTERVENTIONAL',\n",
       "  'Allocation: RANDOMIZED|Intervention Model: PARALLEL|Masking: DOUBLE (INVESTIGATOR OUTCOMES_ASSESSOR)|Primary Purpose: TREATMENT',\n",
       "  '2018-08-20',\n",
       "  '2019-02-28'],\n",
       " ['NCT05992571',\n",
       "  'Oral Ketone Monoester Supplementation and Resting-state Brain Connectivity',\n",
       "  '',\n",
       "  'RECRUITING',\n",
       "  'Cerebrovascular Function|Cognition',\n",
       "  'OTHER: Placebo|DIETARY_SUPPLEMENT: β-OHB',\n",
       "  'McMaster University',\n",
       "  \"Alzheimer's Society of Brant Haldimand Norfolk Hamilton Halton\",\n",
       "  '30.0',\n",
       "  'OTHER',\n",
       "  'INTERVENTIONAL',\n",
       "  'Allocation: RANDOMIZED|Intervention Model: CROSSOVER|Masking: TRIPLE (PARTICIPANT INVESTIGATOR OUTCOMES_ASSESSOR)|Primary Purpose: BASIC_SCIENCE',\n",
       "  '2023-10-25',\n",
       "  '2024-08']]"
      ]
     },
     "execution_count": 5,
     "metadata": {},
     "output_type": "execute_result"
    }
   ],
   "source": [
    "# Data cleaning process starts here\n",
    "cleaned_data = rdd.map(lambda line: line.replace(',', '').replace('\"', '').\\\n",
    "    split(delimiter)) # Remove commas and quotation marks, and split by '\\t'\n",
    "# header = cleaned_data.first() # Extract the header\n",
    "cleaned_data = cleaned_data.filter(lambda row: row != header)\n",
    "cleaned_data.take(2) # Display the first 2 rows of the  cleaned data in the new RDD (cleaned_data)\n"
   ]
  },
  {
   "cell_type": "code",
   "execution_count": 0,
   "metadata": {
    "application/vnd.databricks.v1+cell": {
     "cellMetadata": {
      "byteLimit": 2048000,
      "rowLimit": 10000
     },
     "inputWidgets": {},
     "nuid": "93d71bd9-5722-4052-9b93-6c451bfe64e6",
     "showTitle": false,
     "title": ""
    }
   },
   "outputs": [],
   "source": [
    "def fix_row_length(row, length):\n",
    "    return row + ([None] * (length - len(row)))\n",
    " \n",
    "# Adjust each row to have 14 fields\n",
    "cleaned_data_rdd = cleaned_data.map(lambda row: fix_row_length(row, rowNo))\n"
   ]
  },
  {
   "cell_type": "code",
   "execution_count": 0,
   "metadata": {
    "application/vnd.databricks.v1+cell": {
     "cellMetadata": {
      "byteLimit": 2048000,
      "rowLimit": 10000
     },
     "inputWidgets": {},
     "nuid": "a64a0342-234c-4f74-9630-7d64395e13a7",
     "showTitle": false,
     "title": ""
    }
   },
   "outputs": [
    {
     "output_type": "display_data",
     "data": {
      "text/html": [
       "<style scoped>\n",
       "  .table-result-container {\n",
       "    max-height: 300px;\n",
       "    overflow: auto;\n",
       "  }\n",
       "  table, th, td {\n",
       "    border: 1px solid black;\n",
       "    border-collapse: collapse;\n",
       "  }\n",
       "  th, td {\n",
       "    padding: 5px;\n",
       "  }\n",
       "  th {\n",
       "    text-align: left;\n",
       "  }\n",
       "</style><div class='table-result-container'><table class='table-result'><thead style='background-color: white'><tr><th>Id</th><th>Study Title</th><th>Acronym</th><th>Status</th><th>Conditions</th><th>Interventions</th><th>Sponsor</th><th>Collaborators</th><th>Enrollment</th><th>Funder Type</th><th>Type</th><th>Study Design</th><th>Start</th><th>Completion</th></tr></thead><tbody><tr><td>Id</td><td>Study Title</td><td>Acronym</td><td>Status</td><td>Conditions</td><td>Interventions</td><td>Sponsor</td><td>Collaborators</td><td>Enrollment</td><td>Funder Type</td><td>Type</td><td>Study Design</td><td>Start</td><td>Completion</td></tr><tr><td>NCT05992571</td><td>Oral Ketone Monoester Supplementation and Resting-state Brain Connectivity</td><td></td><td>RECRUITING</td><td>Cerebrovascular Function|Cognition</td><td>OTHER: Placebo|DIETARY_SUPPLEMENT: β-OHB</td><td>McMaster University</td><td>Alzheimer's Society of Brant Haldimand Norfolk Hamilton Halton</td><td>30.0</td><td>OTHER</td><td>INTERVENTIONAL</td><td>Allocation: RANDOMIZED|Intervention Model: CROSSOVER|Masking: TRIPLE (PARTICIPANT INVESTIGATOR OUTCOMES_ASSESSOR)|Primary Purpose: BASIC_SCIENCE</td><td>2023-10-25</td><td>2024-08</td></tr><tr><td>NCT00237471</td><td>Impact of Tight Glycaemic Control in Acute Myocardial Infarction</td><td></td><td>TERMINATED</td><td>Myocardial Infarct|Hyperglycemia</td><td>DRUG: Insulin (tight blood glucose control)</td><td>Melbourne Health</td><td>National Health and Medical Research Council Australia|Bristol-Myers Squibb</td><td>40.0</td><td>OTHER</td><td>INTERVENTIONAL</td><td>Allocation: RANDOMIZED|Intervention Model: PARALLEL|Masking: NONE|Primary Purpose: TREATMENT</td><td>2005-10</td><td>2006-05</td></tr><tr><td>NCT03820271</td><td>New Prognostic Predictive Models of Mortality of Decompensated Cirrhotic Patients Waiting for Liver Transplantation</td><td>SUPERMELD</td><td>RECRUITING</td><td>Decompensated Cirrhosis|Liver Transplantation</td><td>OTHER: SuperMELD</td><td>Assistance Publique - Hôpitaux de Paris</td><td></td><td>500.0</td><td>OTHER</td><td>INTERVENTIONAL</td><td>Allocation: NA|Intervention Model: SINGLE_GROUP|Masking: NONE|Primary Purpose: OTHER</td><td>2020-10-01</td><td>2023-10-01</td></tr><tr><td>NCT06229171</td><td>InTake Care: Development and Validation of an Innovative Personalized Digital Health Solution for Medication Adherence Support in Cardiovascular Prevention</td><td>InTakeCare</td><td>NOT_YET_RECRUITING</td><td>Hypertension|Treatment Adherence and Compliance|Digital Health</td><td>OTHER: adherence support system based on a vocal assistant</td><td>Istituto Auxologico Italiano</td><td>Istituti Clinici Scientifici Maugeri SpA|Politecnico di Milano</td><td>206.0</td><td>OTHER</td><td>INTERVENTIONAL</td><td>Allocation: RANDOMIZED|Intervention Model: PARALLEL|Masking: NONE|Primary Purpose: OTHER</td><td>2024-10-01</td><td>2026-04-01</td></tr><tr><td>NCT02945371</td><td>Tailored Inhibitory Control Training to Reverse EA-linked Deficits in Mid-life</td><td>REV</td><td>COMPLETED</td><td>Smoking|Alcohol Drinking|Prescription Drug Abuse|Substance-Related Disorders|Oral Intake Reduced</td><td>BEHAVIORAL: Person-centered inhibitory control training|BEHAVIORAL: Active behavioral response training</td><td>University of Oregon</td><td></td><td>103.0</td><td>OTHER</td><td>INTERVENTIONAL</td><td>Allocation: RANDOMIZED|Intervention Model: PARALLEL|Masking: SINGLE (PARTICIPANT)|Primary Purpose: PREVENTION</td><td>2014-09</td><td>2016-05</td></tr><tr><td>NCT01055171</td><td>Neuromodulation of Trauma Memories in PTSD & Alcohol Dependence</td><td></td><td>COMPLETED</td><td>Alcohol Dependence|PTSD</td><td>DRUG: Propranolol|DRUG: Placebo</td><td>Medical University of South Carolina</td><td>National Institute on Alcohol Abuse and Alcoholism (NIAAA)</td><td>44.0</td><td>OTHER</td><td>INTERVENTIONAL</td><td>Allocation: RANDOMIZED|Intervention Model: PARALLEL|Masking: QUADRUPLE (PARTICIPANT CARE_PROVIDER INVESTIGATOR OUTCOMES_ASSESSOR)|Primary Purpose: TREATMENT</td><td>2010-01</td><td>2012-08</td></tr><tr><td>NCT01125371</td><td>Computerized Brief Alcohol Intervention (BI) for Binge Drinking HIV At-Risk and Infected Women</td><td></td><td>COMPLETED</td><td>Alcohol; Harmful Use|Binge Drinking|Risk Behavior|HIV Infection</td><td>BEHAVIORAL: Computerized brief alcohol intervention + IVR booster calls|BEHAVIORAL: Computerized brief alcohol intervention|BEHAVIORAL: Attention Control</td><td>Johns Hopkins University</td><td>National Institute on Alcohol Abuse and Alcoholism (NIAAA)</td><td>439.0</td><td>OTHER</td><td>INTERVENTIONAL</td><td>Allocation: RANDOMIZED|Intervention Model: PARALLEL|Masking: DOUBLE (INVESTIGATOR OUTCOMES_ASSESSOR)|Primary Purpose: TREATMENT</td><td>2011-10</td><td>2016-06-07</td></tr><tr><td>NCT02554071</td><td>Manitoba Pharmacist Initiated Smoking Cessation Pilot Project</td><td></td><td>COMPLETED</td><td>Smoking Cessation</td><td>OTHER: Pharmacist - Smoking Cessation Support</td><td>University of Manitoba</td><td>Govenment of Manitoba|Canadian Foundation for Pharmacy|Neighbourhood Pharmacy Association of Canada</td><td>119.0</td><td>OTHER</td><td>INTERVENTIONAL</td><td>Allocation: NA|Intervention Model: SINGLE_GROUP|Masking: NONE|Primary Purpose: SUPPORTIVE_CARE</td><td>2014-01</td><td>2014-11</td></tr><tr><td>NCT01772771</td><td>Molecular Testing for the MD Anderson Cancer Center Personalized Cancer Therapy Program</td><td></td><td>RECRUITING</td><td>Glioma|Hematopoietic and Lymphoid Cell Neoplasm|Malignant Solid Neoplasm|Melanoma|Sarcoma</td><td>PROCEDURE: Biospecimen Collection|OTHER: Genetic Testing|OTHER: Medical Chart Review</td><td>M.D. Anderson Cancer Center</td><td>National Cancer Institute (NCI)</td><td>12000.0</td><td>OTHER</td><td>OBSERVATIONAL</td><td>Observational Model: |Time Perspective: p</td><td>2012-03-01</td><td>2033-03-01</td></tr></tbody></table></div>"
      ]
     },
     "metadata": {
      "application/vnd.databricks.v1+output": {
       "addedWidgets": {},
       "aggData": [],
       "aggError": "",
       "aggOverflow": false,
       "aggSchema": [],
       "aggSeriesLimitReached": false,
       "aggType": "",
       "arguments": {},
       "columnCustomDisplayInfos": {},
       "data": [
        [
         "Id",
         "Study Title",
         "Acronym",
         "Status",
         "Conditions",
         "Interventions",
         "Sponsor",
         "Collaborators",
         "Enrollment",
         "Funder Type",
         "Type",
         "Study Design",
         "Start",
         "Completion"
        ],
        [
         "NCT05992571",
         "Oral Ketone Monoester Supplementation and Resting-state Brain Connectivity",
         "",
         "RECRUITING",
         "Cerebrovascular Function|Cognition",
         "OTHER: Placebo|DIETARY_SUPPLEMENT: β-OHB",
         "McMaster University",
         "Alzheimer's Society of Brant Haldimand Norfolk Hamilton Halton",
         "30.0",
         "OTHER",
         "INTERVENTIONAL",
         "Allocation: RANDOMIZED|Intervention Model: CROSSOVER|Masking: TRIPLE (PARTICIPANT INVESTIGATOR OUTCOMES_ASSESSOR)|Primary Purpose: BASIC_SCIENCE",
         "2023-10-25",
         "2024-08"
        ],
        [
         "NCT00237471",
         "Impact of Tight Glycaemic Control in Acute Myocardial Infarction",
         "",
         "TERMINATED",
         "Myocardial Infarct|Hyperglycemia",
         "DRUG: Insulin (tight blood glucose control)",
         "Melbourne Health",
         "National Health and Medical Research Council Australia|Bristol-Myers Squibb",
         "40.0",
         "OTHER",
         "INTERVENTIONAL",
         "Allocation: RANDOMIZED|Intervention Model: PARALLEL|Masking: NONE|Primary Purpose: TREATMENT",
         "2005-10",
         "2006-05"
        ],
        [
         "NCT03820271",
         "New Prognostic Predictive Models of Mortality of Decompensated Cirrhotic Patients Waiting for Liver Transplantation",
         "SUPERMELD",
         "RECRUITING",
         "Decompensated Cirrhosis|Liver Transplantation",
         "OTHER: SuperMELD",
         "Assistance Publique - Hôpitaux de Paris",
         "",
         "500.0",
         "OTHER",
         "INTERVENTIONAL",
         "Allocation: NA|Intervention Model: SINGLE_GROUP|Masking: NONE|Primary Purpose: OTHER",
         "2020-10-01",
         "2023-10-01"
        ],
        [
         "NCT06229171",
         "InTake Care: Development and Validation of an Innovative Personalized Digital Health Solution for Medication Adherence Support in Cardiovascular Prevention",
         "InTakeCare",
         "NOT_YET_RECRUITING",
         "Hypertension|Treatment Adherence and Compliance|Digital Health",
         "OTHER: adherence support system based on a vocal assistant",
         "Istituto Auxologico Italiano",
         "Istituti Clinici Scientifici Maugeri SpA|Politecnico di Milano",
         "206.0",
         "OTHER",
         "INTERVENTIONAL",
         "Allocation: RANDOMIZED|Intervention Model: PARALLEL|Masking: NONE|Primary Purpose: OTHER",
         "2024-10-01",
         "2026-04-01"
        ],
        [
         "NCT02945371",
         "Tailored Inhibitory Control Training to Reverse EA-linked Deficits in Mid-life",
         "REV",
         "COMPLETED",
         "Smoking|Alcohol Drinking|Prescription Drug Abuse|Substance-Related Disorders|Oral Intake Reduced",
         "BEHAVIORAL: Person-centered inhibitory control training|BEHAVIORAL: Active behavioral response training",
         "University of Oregon",
         "",
         "103.0",
         "OTHER",
         "INTERVENTIONAL",
         "Allocation: RANDOMIZED|Intervention Model: PARALLEL|Masking: SINGLE (PARTICIPANT)|Primary Purpose: PREVENTION",
         "2014-09",
         "2016-05"
        ],
        [
         "NCT01055171",
         "Neuromodulation of Trauma Memories in PTSD & Alcohol Dependence",
         "",
         "COMPLETED",
         "Alcohol Dependence|PTSD",
         "DRUG: Propranolol|DRUG: Placebo",
         "Medical University of South Carolina",
         "National Institute on Alcohol Abuse and Alcoholism (NIAAA)",
         "44.0",
         "OTHER",
         "INTERVENTIONAL",
         "Allocation: RANDOMIZED|Intervention Model: PARALLEL|Masking: QUADRUPLE (PARTICIPANT CARE_PROVIDER INVESTIGATOR OUTCOMES_ASSESSOR)|Primary Purpose: TREATMENT",
         "2010-01",
         "2012-08"
        ],
        [
         "NCT01125371",
         "Computerized Brief Alcohol Intervention (BI) for Binge Drinking HIV At-Risk and Infected Women",
         "",
         "COMPLETED",
         "Alcohol; Harmful Use|Binge Drinking|Risk Behavior|HIV Infection",
         "BEHAVIORAL: Computerized brief alcohol intervention + IVR booster calls|BEHAVIORAL: Computerized brief alcohol intervention|BEHAVIORAL: Attention Control",
         "Johns Hopkins University",
         "National Institute on Alcohol Abuse and Alcoholism (NIAAA)",
         "439.0",
         "OTHER",
         "INTERVENTIONAL",
         "Allocation: RANDOMIZED|Intervention Model: PARALLEL|Masking: DOUBLE (INVESTIGATOR OUTCOMES_ASSESSOR)|Primary Purpose: TREATMENT",
         "2011-10",
         "2016-06-07"
        ],
        [
         "NCT02554071",
         "Manitoba Pharmacist Initiated Smoking Cessation Pilot Project",
         "",
         "COMPLETED",
         "Smoking Cessation",
         "OTHER: Pharmacist - Smoking Cessation Support",
         "University of Manitoba",
         "Govenment of Manitoba|Canadian Foundation for Pharmacy|Neighbourhood Pharmacy Association of Canada",
         "119.0",
         "OTHER",
         "INTERVENTIONAL",
         "Allocation: NA|Intervention Model: SINGLE_GROUP|Masking: NONE|Primary Purpose: SUPPORTIVE_CARE",
         "2014-01",
         "2014-11"
        ],
        [
         "NCT01772771",
         "Molecular Testing for the MD Anderson Cancer Center Personalized Cancer Therapy Program",
         "",
         "RECRUITING",
         "Glioma|Hematopoietic and Lymphoid Cell Neoplasm|Malignant Solid Neoplasm|Melanoma|Sarcoma",
         "PROCEDURE: Biospecimen Collection|OTHER: Genetic Testing|OTHER: Medical Chart Review",
         "M.D. Anderson Cancer Center",
         "National Cancer Institute (NCI)",
         "12000.0",
         "OTHER",
         "OBSERVATIONAL",
         "Observational Model: |Time Perspective: p",
         "2012-03-01",
         "2033-03-01"
        ]
       ],
       "datasetInfos": [],
       "dbfsResultPath": null,
       "isJsonSchema": true,
       "metadata": {},
       "overflow": false,
       "plotOptions": {
        "customPlotOptions": {},
        "displayType": "table",
        "pivotAggregation": null,
        "pivotColumns": null,
        "xColumns": null,
        "yColumns": null
       },
       "removedWidgets": [],
       "schema": [
        {
         "metadata": "{}",
         "name": "Id",
         "type": "\"string\""
        },
        {
         "metadata": "{}",
         "name": "Study Title",
         "type": "\"string\""
        },
        {
         "metadata": "{}",
         "name": "Acronym",
         "type": "\"string\""
        },
        {
         "metadata": "{}",
         "name": "Status",
         "type": "\"string\""
        },
        {
         "metadata": "{}",
         "name": "Conditions",
         "type": "\"string\""
        },
        {
         "metadata": "{}",
         "name": "Interventions",
         "type": "\"string\""
        },
        {
         "metadata": "{}",
         "name": "Sponsor",
         "type": "\"string\""
        },
        {
         "metadata": "{}",
         "name": "Collaborators",
         "type": "\"string\""
        },
        {
         "metadata": "{}",
         "name": "Enrollment",
         "type": "\"string\""
        },
        {
         "metadata": "{}",
         "name": "Funder Type",
         "type": "\"string\""
        },
        {
         "metadata": "{}",
         "name": "Type",
         "type": "\"string\""
        },
        {
         "metadata": "{}",
         "name": "Study Design",
         "type": "\"string\""
        },
        {
         "metadata": "{}",
         "name": "Start",
         "type": "\"string\""
        },
        {
         "metadata": "{}",
         "name": "Completion",
         "type": "\"string\""
        }
       ],
       "type": "table"
      }
     },
     "output_type": "display_data"
    }
   ],
   "source": [
    "header = cleaned_data_rdd.first()\n",
    "from pyspark.sql.types import *\n",
    "\n",
    "# Define the schemas\n",
    "schema = StructType([\n",
    "    StructField(\"Id\", StringType(), True),\n",
    "    StructField(\"Study Title\", StringType(), True),\n",
    "    StructField(\"Acronym\", StringType(), True),\n",
    "    StructField(\"Status\", StringType(), True),\n",
    "    StructField(\"Conditions\", StringType(), True),\n",
    "    StructField(\"Interventions\", StringType(), True),\n",
    "    StructField(\"Sponsor\", StringType(), True),\n",
    "    StructField(\"Collaborators\", StringType(), True),\n",
    "    StructField(\"Enrollment\", StringType(), True),  # Changed to StringType\n",
    "    StructField(\"Funder Type\", StringType(), True),\n",
    "    StructField(\"Type\", StringType(), True),\n",
    "    StructField(\"Study Design\", StringType(), True),\n",
    "    StructField(\"Start\", StringType(), True),\n",
    "    StructField(\"Completion\", StringType(), True)\n",
    "])\n",
    "\n",
    "schema1 = StructType([\n",
    "    StructField(\"Id\", StringType(), True),\n",
    "    StructField(\"Sponsor\", StringType(), True),\n",
    "    StructField(\"Status\", StringType(), True),\n",
    "    StructField(\"Start\", StringType(), True),\n",
    "    StructField(\"Completion\", StringType(), True),\n",
    "    StructField(\"Type\", StringType(), True),\n",
    "    StructField(\"Submission\", StringType(), True),\n",
    "    StructField(\"Conditions\", StringType(), True),\n",
    "    StructField(\"Interventions\", StringType(), True)\n",
    "])\n",
    "\n",
    "# Choose schema based on the length of the header\n",
    "selected_schema = schema if len(header) == 14 else schema1\n",
    "\n",
    "# Create DataFrame\n",
    "clinicaltrial_df = spark.createDataFrame(cleaned_data_rdd, selected_schema)\n",
    "\n",
    "# Show the DataFrame\n",
    "clinicaltrial_df.limit(10).display()\n",
    "# Save DataFrame to a CSV file\n",
    "# clinicaltrial_df.write.csv(\"/FileStore/tables/\" + filename + \"df\" + \".csv\", mode=\"overwrite\")\n",
    "\n"
   ]
  },
  {
   "cell_type": "code",
   "execution_count": 0,
   "metadata": {
    "application/vnd.databricks.v1+cell": {
     "cellMetadata": {
      "byteLimit": 2048000,
      "rowLimit": 10000
     },
     "inputWidgets": {},
     "nuid": "5f810de5-4fa4-485a-a683-f7cb1e6e95c2",
     "showTitle": false,
     "title": ""
    }
   },
   "outputs": [
    {
     "output_type": "stream",
     "name": "stdout",
     "output_type": "stream",
     "text": [
      "root\n |-- Id: string (nullable = true)\n |-- Study Title: string (nullable = true)\n |-- Acronym: string (nullable = true)\n |-- Status: string (nullable = true)\n |-- Conditions: string (nullable = true)\n |-- Interventions: string (nullable = true)\n |-- Sponsor: string (nullable = true)\n |-- Collaborators: string (nullable = true)\n |-- Enrollment: string (nullable = true)\n |-- Funder Type: string (nullable = true)\n |-- Type: string (nullable = true)\n |-- Study Design: string (nullable = true)\n |-- Start: string (nullable = true)\n |-- Completion: string (nullable = true)\n\n"
     ]
    }
   ],
   "source": [
    "# Confirm the schema\n",
    "clinicaltrial_df.printSchema()"
   ]
  },
  {
   "cell_type": "markdown",
   "metadata": {
    "application/vnd.databricks.v1+cell": {
     "cellMetadata": {
      "byteLimit": 2048000,
      "rowLimit": 10000
     },
     "inputWidgets": {},
     "nuid": "c14f216d-3f06-44cc-a158-f1f38190c872",
     "showTitle": false,
     "title": ""
    }
   },
   "source": [
    "Prepare the pharma file"
   ]
  },
  {
   "cell_type": "code",
   "execution_count": 0,
   "metadata": {
    "application/vnd.databricks.v1+cell": {
     "cellMetadata": {
      "byteLimit": 2048000,
      "rowLimit": 10000
     },
     "inputWidgets": {},
     "nuid": "b6676cf8-c465-4a81-b5fe-3d7f1bae32d2",
     "showTitle": false,
     "title": ""
    }
   },
   "outputs": [
    {
     "output_type": "display_data",
     "data": {
      "text/html": [
       "<style scoped>\n",
       "  .table-result-container {\n",
       "    max-height: 300px;\n",
       "    overflow: auto;\n",
       "  }\n",
       "  table, th, td {\n",
       "    border: 1px solid black;\n",
       "    border-collapse: collapse;\n",
       "  }\n",
       "  th, td {\n",
       "    padding: 5px;\n",
       "  }\n",
       "  th {\n",
       "    text-align: left;\n",
       "  }\n",
       "</style><div class='table-result-container'><table class='table-result'><thead style='background-color: white'><tr><th>Company</th><th>Parent_Company</th></tr></thead><tbody><tr><td>Abbott Laboratories</td><td>Abbott Laboratories</td></tr><tr><td>Abbott Laboratories Inc.</td><td>AbbVie</td></tr><tr><td>Abbott Laboratories Inc.</td><td>AbbVie</td></tr><tr><td>Abbott Laboratories Puerto Rico, Inc.</td><td>Abbott Laboratories</td></tr><tr><td>Acclarent Inc.</td><td>Johnson & Johnson</td></tr></tbody></table></div>"
      ]
     },
     "metadata": {
      "application/vnd.databricks.v1+output": {
       "addedWidgets": {},
       "aggData": [],
       "aggError": "",
       "aggOverflow": false,
       "aggSchema": [],
       "aggSeriesLimitReached": false,
       "aggType": "",
       "arguments": {},
       "columnCustomDisplayInfos": {},
       "data": [
        [
         "Abbott Laboratories",
         "Abbott Laboratories"
        ],
        [
         "Abbott Laboratories Inc.",
         "AbbVie"
        ],
        [
         "Abbott Laboratories Inc.",
         "AbbVie"
        ],
        [
         "Abbott Laboratories Puerto Rico, Inc.",
         "Abbott Laboratories"
        ],
        [
         "Acclarent Inc.",
         "Johnson & Johnson"
        ]
       ],
       "datasetInfos": [],
       "dbfsResultPath": null,
       "isJsonSchema": true,
       "metadata": {},
       "overflow": false,
       "plotOptions": {
        "customPlotOptions": {},
        "displayType": "table",
        "pivotAggregation": null,
        "pivotColumns": null,
        "xColumns": null,
        "yColumns": null
       },
       "removedWidgets": [],
       "schema": [
        {
         "metadata": "{}",
         "name": "Company",
         "type": "\"string\""
        },
        {
         "metadata": "{}",
         "name": "Parent_Company",
         "type": "\"string\""
        }
       ],
       "type": "table"
      }
     },
     "output_type": "display_data"
    }
   ],
   "source": [
    "from pyspark.sql import SparkSession\n",
    "from pyspark.sql.types import StructType, StructField, StringType\n",
    "\n",
    "# Initialise SparkSession\n",
    "# spark = SparkSession.builder \\\n",
    "#     .appName('Read CSV and Extract Parent Company Column') \\\n",
    "#     .getOrCreate()\n",
    "\n",
    "# Define the schema for the DataFrame\n",
    "Company_schema = StructType([\n",
    "    StructField('Company', StringType(), True),\n",
    "    StructField('Parent_Company', StringType(), True)\n",
    "])\n",
    "\n",
    "# Read the unzipped pharma CSV file into a DataFrame\n",
    "pharma_df = spark.read.csv('/FileStore/tables/' + filepath + '.csv', header=True, schema=Company_schema)\n",
    "\n",
    "# Select the 'Parent_Company' column\n",
    "pharma_df_company = pharma_df.select('Company','Parent_Company')\n",
    "\n",
    "# Show the DataFrame\n",
    "pharma_df_company.limit(5).display()\n"
   ]
  },
  {
   "cell_type": "markdown",
   "metadata": {
    "application/vnd.databricks.v1+cell": {
     "cellMetadata": {
      "byteLimit": 2048000,
      "rowLimit": 10000
     },
     "inputWidgets": {},
     "nuid": "98bc9614-8872-45a2-84e8-d96b355f75af",
     "showTitle": false,
     "title": ""
    }
   },
   "source": [
    "##### 1. The number of studies in the dataset. You must ensure that you explicitly check distinct studies."
   ]
  },
  {
   "cell_type": "code",
   "execution_count": 0,
   "metadata": {
    "application/vnd.databricks.v1+cell": {
     "cellMetadata": {
      "byteLimit": 2048000,
      "rowLimit": 10000
     },
     "inputWidgets": {},
     "nuid": "713e2212-0e0e-403e-8e7c-9c1ae01c3127",
     "showTitle": false,
     "title": ""
    }
   },
   "outputs": [
    {
     "output_type": "stream",
     "name": "stdout",
     "output_type": "stream",
     "text": [
      "The number of distinct studies in the dataset is: 483422\n"
     ]
    }
   ],
   "source": [
    "# Question 1 DataFrame Implementation\n",
    "from pyspark.sql.functions import countDistinct\n",
    "\n",
    "# Calculate the number of distinct studies using DataFrame API\n",
    "num_studies = clinicaltrial_df.select(countDistinct('Id').alias('num_studies')).collect()[0]['num_studies']\n",
    "\n",
    "# Display the result\n",
    "print(f\"The number of distinct studies in the dataset is: {num_studies}\")"
   ]
  },
  {
   "cell_type": "markdown",
   "metadata": {
    "application/vnd.databricks.v1+cell": {
     "cellMetadata": {
      "byteLimit": 2048000,
      "rowLimit": 10000
     },
     "inputWidgets": {},
     "nuid": "9286f9fb-f862-46f7-85b1-3284647778b7",
     "showTitle": false,
     "title": ""
    }
   },
   "source": [
    "##### 2. You should list all the types (as contained in the Type column) of studies in the dataset along with the frequencies of each type. These should be ordered from most frequent to least frequent."
   ]
  },
  {
   "cell_type": "code",
   "execution_count": 0,
   "metadata": {
    "application/vnd.databricks.v1+cell": {
     "cellMetadata": {
      "byteLimit": 2048000,
      "rowLimit": 10000
     },
     "inputWidgets": {},
     "nuid": "1fc414fc-c4be-4c23-9e94-2d09a180c358",
     "showTitle": false,
     "title": ""
    }
   },
   "outputs": [
    {
     "output_type": "stream",
     "name": "stdout",
     "output_type": "stream",
     "text": [
      "Type           \t\tCount\n------------------------------\nINTERVENTIONAL \t\t371381\nOBSERVATIONAL  \t\t110221\nEXPANDED_ACCESS\t\t928\n------------------------------\n"
     ]
    }
   ],
   "source": [
    "from pyspark.sql.functions import col\n",
    "header = clinicaltrial_df.columns # Extract header from the DataFrame\n",
    "column_names_to_use = header # Use the extracted header to determine column names\n",
    "cleaned_data_filtered_df = clinicaltrial_df.filter(~col(\"Type\").isNull())# Filter out rows with missing data based on the selected column names\n",
    "study_types_filtered_df = cleaned_data_filtered_df.filter(clinicaltrial_df[\"Type\"] != \"Type\")# Filter out rows where study type matches column name \"Type\"\n",
    "study_types_filtered_df = study_types_filtered_df.filter(clinicaltrial_df[\"Type\"] != \"\")\n",
    "study_type_counts_df = study_types_filtered_df.groupBy(\"Type\").count() # Count the frequency of each study type\n",
    "sorted_study_types_df = study_type_counts_df.orderBy(col(\"count\").desc()).collect() # Sort the types by frequency in descending order\n",
    "max_length = max(len(row[\"Type\"]) for row in sorted_study_types_df) # Determine the length of the longest string in type\n",
    "print(\"Type\" + \" \" * (max_length - len(\"Type\")) + \"\\t\\tCount\") # Display the result with aligned columns\n",
    "print('-' * (max_length + 15))\n",
    "for row in sorted_study_types_df:\n",
    "    print(f\"{row['Type']}{' ' * (max_length - len(row['Type']))}\\t\\t{row['count']}\")\n",
    "print('-' * (max_length + 15))\n"
   ]
  },
  {
   "cell_type": "markdown",
   "metadata": {
    "application/vnd.databricks.v1+cell": {
     "cellMetadata": {
      "byteLimit": 2048000,
      "rowLimit": 10000
     },
     "inputWidgets": {},
     "nuid": "7a2123cc-cb5a-48b0-8230-7d1221ed04d7",
     "showTitle": false,
     "title": ""
    }
   },
   "source": [
    "##### 3. The top 5 conditions (from Conditions) with their frequencies."
   ]
  },
  {
   "cell_type": "code",
   "execution_count": 0,
   "metadata": {
    "application/vnd.databricks.v1+cell": {
     "cellMetadata": {
      "byteLimit": 2048000,
      "rowLimit": 10000
     },
     "inputWidgets": {},
     "nuid": "7460aff9-d62a-45f6-8dc5-4215d2bb876b",
     "showTitle": false,
     "title": ""
    }
   },
   "outputs": [
    {
     "output_type": "stream",
     "name": "stdout",
     "output_type": "stream",
     "text": [
      "+-------------+-----+\n|Condition    |count|\n+-------------+-----+\n|Healthy      |9731 |\n|Breast Cancer|7502 |\n|Obesity      |6549 |\n|Stroke       |4073 |\n|Hypertension |4024 |\n+-------------+-----+\n\n"
     ]
    }
   ],
   "source": [
    "# Question 3 DataFrame Implementation\n",
    "from pyspark.sql.functions import col, explode, split\n",
    "split_conditions_df = clinicaltrial_df.withColumn(\"Condition\", explode(split(col(\"Conditions\"), split_str)))\n",
    "filtered_conditions_df = split_conditions_df.filter(col(\"Condition\") != \"\") # Filter out any empty conditions\n",
    "condition_counts_df = filtered_conditions_df.groupBy(\"Condition\").count() # Count the frequency of each condition\n",
    "sorted_condition_counts_df = condition_counts_df.orderBy(col(\"count\").desc()) # Sort the conditions by frequency in descending order\n",
    "top_5_conditions_df = sorted_condition_counts_df.limit(5) # Take the top 5 conditions\n",
    "top_5_conditions_df.show(truncate=False) # Show the result\n"
   ]
  },
  {
   "cell_type": "markdown",
   "metadata": {
    "application/vnd.databricks.v1+cell": {
     "cellMetadata": {
      "byteLimit": 2048000,
      "rowLimit": 10000
     },
     "inputWidgets": {},
     "nuid": "7eb165b7-0890-4873-bda8-cc7fbef851a7",
     "showTitle": false,
     "title": ""
    }
   },
   "source": [
    "##### 4. Find the 10 most common sponsors that are not pharmaceutical companies, along with the number of clinical trials they have sponsored. Hint: For a basic implementation, you can assume that"
   ]
  },
  {
   "cell_type": "code",
   "execution_count": 0,
   "metadata": {
    "application/vnd.databricks.v1+cell": {
     "cellMetadata": {
      "byteLimit": 2048000,
      "rowLimit": 10000
     },
     "inputWidgets": {},
     "nuid": "5909fe31-905a-4deb-9bfe-93b02e9dcac3",
     "showTitle": false,
     "title": ""
    }
   },
   "outputs": [
    {
     "output_type": "stream",
     "name": "stdout",
     "output_type": "stream",
     "text": [
      "+-------------------------------------------------------------+-----+\n|Sponsor                                                      |count|\n+-------------------------------------------------------------+-----+\n|National Cancer Institute (NCI)                              |3410 |\n|Assiut University                                            |3335 |\n|Cairo University                                             |3023 |\n|Assistance Publique - Hôpitaux de Paris                      |2951 |\n|Mayo Clinic                                                  |2766 |\n|M.D. Anderson Cancer Center                                  |2702 |\n|Novartis Pharmaceuticals                                     |2393 |\n|National Institute of Allergy and Infectious Diseases (NIAID)|2340 |\n|Massachusetts General Hospital                               |2263 |\n|National Taiwan University Hospital                          |2181 |\n+-------------------------------------------------------------+-----+\n\n"
     ]
    }
   ],
   "source": [
    "from pyspark.sql.functions import col\n",
    "\n",
    "# Define column names\n",
    "column_names = [\"Id\", \"Study Title\", \"Acronym\", \"Status\", \"Conditions\", \"Interventions\", \"Sponsor\", \"Collaborators\", \"Enrollment\", \"Funder Type\", \"Type\", \"Study Design\", \"Start\", \"Completion\"]\n",
    "column_names1 = [\"Id\", \"Sponsor\", \"Status\", \"Start\", \"Completion\", \"Type\", \"Submission\", \"Conditions\", \"Interventions\"]\n",
    "pharma_df_column_names = [\"Company\", \"Parent_Company\"]\n",
    "\n",
    "# Determine the sponsor column name based on the header length of clinicaltrial_df\n",
    "if len(clinicaltrial_df.columns) == len(column_names):\n",
    "    sponsor_column_name = \"Sponsor\"\n",
    "elif len(clinicaltrial_df.columns) == len(column_names1):\n",
    "    sponsor_column_name = \"Sponsor\" \n",
    "else:\n",
    "    raise ValueError(\"Unsupported clinicaltrial_df header length\")\n",
    "pharma_companies = pharma_df.select(\"Parent_Company\").rdd.flatMap(lambda x: x).collect() # Extract the list of pharmaceutical companies from pharma_df\n",
    "non_pharma_sponsors_df = clinicaltrial_df.filter(~col(sponsor_column_name).isin(pharma_companies)) # Filter out pharmaceutical sponsors from clinicaltrial_df\n",
    "\n",
    "sponsor_trials_count_df = non_pharma_sponsors_df.groupBy(sponsor_column_name).count()# Count the number of trials sponsored by each non-pharmaceutical sponsor\n",
    "\n",
    "# Select the top 10 non-pharmaceutical sponsors based on the number of trials sponsored\n",
    "top_non_pharma_sponsors_df = sponsor_trials_count_df.orderBy(col(\"count\").desc()).limit(10)\n",
    "from pyspark.sql.functions import col, format_string\n",
    "\n",
    "# Determine the width of the sponsor column\n",
    "max_sponsor_length = top_non_pharma_sponsors_df.selectExpr(f\"length({sponsor_column_name}) as sponsor_length\").agg({\"sponsor_length\": \"max\"}).collect()[0][0]\n",
    "\n",
    "# Print the results with aligned columns\n",
    "top_non_pharma_sponsors_df.withColumn(\"Sponsor\", format_string(\"%-{0}s\".format(max_sponsor_length), col(\"Sponsor\"))).show(truncate=False)\n",
    "\n"
   ]
  },
  {
   "cell_type": "markdown",
   "metadata": {
    "application/vnd.databricks.v1+cell": {
     "cellMetadata": {
      "byteLimit": 2048000,
      "rowLimit": 10000
     },
     "inputWidgets": {},
     "nuid": "6be60ffb-5e0f-491f-b175-9d93c1c82c7e",
     "showTitle": false,
     "title": ""
    }
   },
   "source": [
    "##### 5. Plot number of completed studies for each month in 2023. You need to include your visualization as well as a table of all the values you have plotted for each month."
   ]
  },
  {
   "cell_type": "code",
   "execution_count": 0,
   "metadata": {
    "application/vnd.databricks.v1+cell": {
     "cellMetadata": {
      "byteLimit": 2048000,
      "rowLimit": 10000
     },
     "inputWidgets": {},
     "nuid": "d251cae8-e5be-4bf4-b9e2-80bc1a228c1f",
     "showTitle": false,
     "title": ""
    }
   },
   "outputs": [
    {
     "output_type": "display_data",
     "data": {
      "image/png": "[encoded data removed]",
      "text/plain": [
       "<Figure size 1000x600 with 1 Axes>"
      ]
     },
     "metadata": {},
     "output_type": "display_data"
    },
    {
     "output_type": "stream",
     "name": "stdout",
     "output_type": "stream",
     "text": [
      "+-----+-----+\n|Month|count|\n+-----+-----+\n|    1| 1494|\n|    2| 1272|\n|    3| 1552|\n|    4| 1324|\n|    5| 1415|\n|    6| 1619|\n|    7| 1360|\n|    8| 1230|\n|    9| 1152|\n|   10| 1058|\n|   11|  909|\n|   12| 1082|\n+-----+-----+\n\n"
     ]
    }
   ],
   "source": [
    "from pyspark.sql.functions import col, month, year\n",
    "import matplotlib.pyplot as plt\n",
    "completed_studies_2023_df = clinicaltrial_df.filter((col(\"Status\") == \"COMPLETED\") & \n",
    "                                                    (year(col(\"Completion\")) == int(years))) # Filter completed studies in 2023\n",
    "\n",
    "# Extract month from Completion date\n",
    "monthly_counts_df = (\n",
    "    completed_studies_2023_df\n",
    "    .withColumn(\"Month\", month(col(\"Completion\")))\n",
    "    .groupBy(\"Month\")\n",
    "    .count()\n",
    "    .orderBy(\"Month\")\n",
    ")\n",
    "# Collect data for plotting\n",
    "months = monthly_counts_df.select(\"Month\").rdd.flatMap(lambda x: x).collect()\n",
    "counts = monthly_counts_df.select(\"count\").rdd.flatMap(lambda x: x).collect()\n",
    "# Plotting\n",
    "plt.figure(figsize=(10, 6))\n",
    "plt.plot(months, counts, marker='o', color='purple', linestyle='-')\n",
    "plt.title(f'Number of Completed Studies for Each Month in {years}')\n",
    "plt.xlabel('Month')\n",
    "plt.ylabel('Number of Studies')\n",
    "plt.grid(True)\n",
    "plt.show()\n",
    "# Displaying table\n",
    "monthly_counts_df.show()\n"
   ]
  },
  {
   "cell_type": "markdown",
   "metadata": {
    "application/vnd.databricks.v1+cell": {
     "cellMetadata": {
      "byteLimit": 2048000,
      "rowLimit": 10000
     },
     "inputWidgets": {},
     "nuid": "d9bd98d7-dad4-4fb9-9e71-f466101dc574",
     "showTitle": false,
     "title": ""
    }
   },
   "source": [
    "### Further Analysis of the Clinical Trial Dataset"
   ]
  },
  {
   "cell_type": "markdown",
   "metadata": {
    "application/vnd.databricks.v1+cell": {
     "cellMetadata": {
      "byteLimit": 2048000,
      "rowLimit": 10000
     },
     "inputWidgets": {},
     "nuid": "96aae2ee-9a81-4225-95f1-46f3237e6a26",
     "showTitle": false,
     "title": ""
    }
   },
   "source": [
    "##### Question: What are the top 5 sponsors by the number of studies they have sponsored?"
   ]
  },
  {
   "cell_type": "code",
   "execution_count": 0,
   "metadata": {
    "application/vnd.databricks.v1+cell": {
     "cellMetadata": {
      "byteLimit": 2048000,
      "rowLimit": 10000
     },
     "inputWidgets": {},
     "nuid": "18647269-49ac-46fb-9fd2-3535257a21fd",
     "showTitle": false,
     "title": ""
    }
   },
   "outputs": [
    {
     "output_type": "stream",
     "name": "stdout",
     "output_type": "stream",
     "text": [
      "+-------------------------------+-----+\n|Sponsor                        |count|\n+-------------------------------+-----+\n|GlaxoSmithKline                |3482 |\n|National Cancer Institute (NCI)|3410 |\n|Assiut University              |3335 |\n|Pfizer                         |3045 |\n|AstraZeneca                    |3024 |\n+-------------------------------+-----+\n\n"
     ]
    }
   ],
   "source": [
    "# Dataframe Implementation\n",
    "from pyspark.sql.functions import desc\n",
    "\n",
    "# Group by sponsor and count occurrences\n",
    "top_sponsors = clinicaltrial_df.groupBy(\"Sponsor\").count() \\\n",
    "    .orderBy(desc(\"count\")).limit(5)\n",
    "\n",
    "# Display the result\n",
    "top_sponsors.show(truncate = False)\n"
   ]
  },
  {
   "cell_type": "markdown",
   "metadata": {
    "application/vnd.databricks.v1+cell": {
     "cellMetadata": {
      "byteLimit": 2048000,
      "rowLimit": 10000
     },
     "inputWidgets": {},
     "nuid": "8ef052a5-1abd-4b9a-a68e-7634af9071b5",
     "showTitle": false,
     "title": ""
    }
   },
   "source": [
    "##### The codes are working up to this point. Work on other parts (sql and DataFrame)"
   ]
  }
 ],
 "metadata": {
  "application/vnd.databricks.v1+notebook": {
   "dashboards": [],
   "language": "python",
   "notebookMetadata": {
    "mostRecentlyExecutedCommandWithImplicitDF": {
     "commandId": 682546228717444,
     "dataframes": [
      "_sqldf"
     ]
    },
    "pythonIndentUnit": 4
   },
   "notebookName": "Francis_Isimhanze_df",
   "widgets": {}
  }
 },
 "nbformat": 4,
 "nbformat_minor": 0
}
