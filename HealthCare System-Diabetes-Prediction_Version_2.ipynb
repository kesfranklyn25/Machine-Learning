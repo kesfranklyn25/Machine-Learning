{
 "cells": [
  {
   "cell_type": "markdown",
   "id": "7eb260ac",
   "metadata": {},
   "source": [
    "### Load required libraries"
   ]
  },
  {
   "cell_type": "code",
   "execution_count": 61,
   "id": "90e8f162",
   "metadata": {},
   "outputs": [],
   "source": [
    "import pandas as pd\n",
    "import numpy as np\n",
    "import matplotlib.pyplot as plt\n",
    "import seaborn as sns\n",
    "from sklearn.model_selection import train_test_split\n",
    "from imblearn.over_sampling import SMOTE\n",
    "from sklearn.tree import DecisionTreeClassifier\n",
    "from sklearn.ensemble import RandomForestClassifier\n",
    "from sklearn import svm\n",
    "import time\n",
    "import sklearn\n",
    "from sklearn.model_selection import GridSearchCV\n",
    "from sklearn import metrics\n",
    "import math\n",
    "import pickle\n",
    "import warnings\n",
    "warnings.filterwarnings('ignore', category= FutureWarning)\n",
    "warnings.filterwarnings('ignore', category= DeprecationWarning)\n",
    "warnings.filterwarnings('ignore', category = UserWarning)\n",
    "import streamlit\n",
    "import imblearn"
   ]
  },
  {
   "cell_type": "code",
   "execution_count": 62,
   "id": "cd3150a1",
   "metadata": {},
   "outputs": [
    {
     "name": "stdout",
     "output_type": "stream",
     "text": [
      "The numpy version is 1.24.3.\n",
      "The pandas version is 1.5.3.\n",
      "The numpy version is 1.24.3.\n",
      "The streamlit version is 1.34.0.\n",
      "The seaborn version is 0.12.2.\n",
      "The scikit-learn version is 1.3.0.\n",
      "The imblearn version is 0.11.0.\n"
     ]
    }
   ],
   "source": [
    "print('The numpy version is {}.'.format(np.__version__))\n",
    "print('The pandas version is {}.'.format(pd.__version__))\n",
    "print('The numpy version is {}.'.format(np.__version__))\n",
    "print('The streamlit version is {}.'.format(streamlit.__version__))\n",
    "print('The seaborn version is {}.'.format(sns.__version__))\n",
    "print('The scikit-learn version is {}.'.format(sklearn.__version__))\n",
    "print('The imblearn version is {}.'.format(imblearn.__version__))"
   ]
  },
  {
   "cell_type": "code",
   "execution_count": 2,
   "id": "b46b3a6b",
   "metadata": {},
   "outputs": [],
   "source": [
    "df = pd.read_csv('Healthcare-Diabetes.csv') # Load the dataset into a data frame"
   ]
  },
  {
   "cell_type": "code",
   "execution_count": 3,
   "id": "d5704c2e",
   "metadata": {
    "scrolled": true
   },
   "outputs": [
    {
     "data": {
      "text/plain": [
       "(2768, 10)"
      ]
     },
     "execution_count": 3,
     "metadata": {},
     "output_type": "execute_result"
    }
   ],
   "source": [
    "df.shape"
   ]
  },
  {
   "cell_type": "code",
   "execution_count": 4,
   "id": "3ecc27f5",
   "metadata": {},
   "outputs": [],
   "source": [
    "# define a function to check the features of the dataset\n",
    "def get_features_name():\n",
    "    OriginalFeatures = df.columns\n",
    "    print('The number of variables in the original dataset is : ', len(OriginalFeatures), '\\n')\n",
    "    print('The features are listed below:')\n",
    "    for i in range(len(OriginalFeatures)):\n",
    "        print(i+1,' ', OriginalFeatures[i])"
   ]
  },
  {
   "cell_type": "code",
   "execution_count": 5,
   "id": "abfb940f",
   "metadata": {
    "scrolled": true
   },
   "outputs": [
    {
     "name": "stdout",
     "output_type": "stream",
     "text": [
      "The number of variables in the original dataset is :  10 \n",
      "\n",
      "The features are listed below:\n",
      "1   Id\n",
      "2   Pregnancies\n",
      "3   Glucose\n",
      "4   BloodPressure\n",
      "5   SkinThickness\n",
      "6   Insulin\n",
      "7   BMI\n",
      "8   DiabetesPedigreeFunction\n",
      "9   Age\n",
      "10   Outcome\n"
     ]
    }
   ],
   "source": [
    "get_features_name()"
   ]
  },
  {
   "cell_type": "markdown",
   "id": "769b3245",
   "metadata": {},
   "source": [
    "#### Data Cleaning Process"
   ]
  },
  {
   "cell_type": "code",
   "execution_count": 6,
   "id": "fc0019f1",
   "metadata": {},
   "outputs": [
    {
     "data": {
      "text/html": [
       "<div>\n",
       "<style scoped>\n",
       "    .dataframe tbody tr th:only-of-type {\n",
       "        vertical-align: middle;\n",
       "    }\n",
       "\n",
       "    .dataframe tbody tr th {\n",
       "        vertical-align: top;\n",
       "    }\n",
       "\n",
       "    .dataframe thead th {\n",
       "        text-align: right;\n",
       "    }\n",
       "</style>\n",
       "<table border=\"1\" class=\"dataframe\">\n",
       "  <thead>\n",
       "    <tr style=\"text-align: right;\">\n",
       "      <th></th>\n",
       "      <th>Id</th>\n",
       "      <th>Pregnancies</th>\n",
       "      <th>Glucose</th>\n",
       "      <th>BloodPressure</th>\n",
       "      <th>SkinThickness</th>\n",
       "      <th>Insulin</th>\n",
       "      <th>BMI</th>\n",
       "      <th>DiabetesPedigreeFunction</th>\n",
       "      <th>Age</th>\n",
       "      <th>Outcome</th>\n",
       "    </tr>\n",
       "  </thead>\n",
       "  <tbody>\n",
       "    <tr>\n",
       "      <th>0</th>\n",
       "      <td>1</td>\n",
       "      <td>6</td>\n",
       "      <td>148</td>\n",
       "      <td>72</td>\n",
       "      <td>35</td>\n",
       "      <td>0</td>\n",
       "      <td>33.6</td>\n",
       "      <td>0.627</td>\n",
       "      <td>50</td>\n",
       "      <td>1</td>\n",
       "    </tr>\n",
       "    <tr>\n",
       "      <th>1</th>\n",
       "      <td>2</td>\n",
       "      <td>1</td>\n",
       "      <td>85</td>\n",
       "      <td>66</td>\n",
       "      <td>29</td>\n",
       "      <td>0</td>\n",
       "      <td>26.6</td>\n",
       "      <td>0.351</td>\n",
       "      <td>31</td>\n",
       "      <td>0</td>\n",
       "    </tr>\n",
       "    <tr>\n",
       "      <th>2</th>\n",
       "      <td>3</td>\n",
       "      <td>8</td>\n",
       "      <td>183</td>\n",
       "      <td>64</td>\n",
       "      <td>0</td>\n",
       "      <td>0</td>\n",
       "      <td>23.3</td>\n",
       "      <td>0.672</td>\n",
       "      <td>32</td>\n",
       "      <td>1</td>\n",
       "    </tr>\n",
       "    <tr>\n",
       "      <th>3</th>\n",
       "      <td>4</td>\n",
       "      <td>1</td>\n",
       "      <td>89</td>\n",
       "      <td>66</td>\n",
       "      <td>23</td>\n",
       "      <td>94</td>\n",
       "      <td>28.1</td>\n",
       "      <td>0.167</td>\n",
       "      <td>21</td>\n",
       "      <td>0</td>\n",
       "    </tr>\n",
       "    <tr>\n",
       "      <th>4</th>\n",
       "      <td>5</td>\n",
       "      <td>0</td>\n",
       "      <td>137</td>\n",
       "      <td>40</td>\n",
       "      <td>35</td>\n",
       "      <td>168</td>\n",
       "      <td>43.1</td>\n",
       "      <td>2.288</td>\n",
       "      <td>33</td>\n",
       "      <td>1</td>\n",
       "    </tr>\n",
       "  </tbody>\n",
       "</table>\n",
       "</div>"
      ],
      "text/plain": [
       "   Id  Pregnancies  Glucose  BloodPressure  SkinThickness  Insulin   BMI  \\\n",
       "0   1            6      148             72             35        0  33.6   \n",
       "1   2            1       85             66             29        0  26.6   \n",
       "2   3            8      183             64              0        0  23.3   \n",
       "3   4            1       89             66             23       94  28.1   \n",
       "4   5            0      137             40             35      168  43.1   \n",
       "\n",
       "   DiabetesPedigreeFunction  Age  Outcome  \n",
       "0                     0.627   50        1  \n",
       "1                     0.351   31        0  \n",
       "2                     0.672   32        1  \n",
       "3                     0.167   21        0  \n",
       "4                     2.288   33        1  "
      ]
     },
     "execution_count": 6,
     "metadata": {},
     "output_type": "execute_result"
    }
   ],
   "source": [
    "df.head()"
   ]
  },
  {
   "cell_type": "code",
   "execution_count": 7,
   "id": "6dcbf4d8",
   "metadata": {},
   "outputs": [
    {
     "name": "stdout",
     "output_type": "stream",
     "text": [
      "<class 'pandas.core.frame.DataFrame'>\n",
      "RangeIndex: 2768 entries, 0 to 2767\n",
      "Data columns (total 10 columns):\n",
      " #   Column                    Non-Null Count  Dtype  \n",
      "---  ------                    --------------  -----  \n",
      " 0   Id                        2768 non-null   int64  \n",
      " 1   Pregnancies               2768 non-null   int64  \n",
      " 2   Glucose                   2768 non-null   int64  \n",
      " 3   BloodPressure             2768 non-null   int64  \n",
      " 4   SkinThickness             2768 non-null   int64  \n",
      " 5   Insulin                   2768 non-null   int64  \n",
      " 6   BMI                       2768 non-null   float64\n",
      " 7   DiabetesPedigreeFunction  2768 non-null   float64\n",
      " 8   Age                       2768 non-null   int64  \n",
      " 9   Outcome                   2768 non-null   int64  \n",
      "dtypes: float64(2), int64(8)\n",
      "memory usage: 216.4 KB\n"
     ]
    }
   ],
   "source": [
    "df.info()"
   ]
  },
  {
   "cell_type": "code",
   "execution_count": 8,
   "id": "fa08b598",
   "metadata": {},
   "outputs": [
    {
     "data": {
      "text/html": [
       "<div>\n",
       "<style scoped>\n",
       "    .dataframe tbody tr th:only-of-type {\n",
       "        vertical-align: middle;\n",
       "    }\n",
       "\n",
       "    .dataframe tbody tr th {\n",
       "        vertical-align: top;\n",
       "    }\n",
       "\n",
       "    .dataframe thead th {\n",
       "        text-align: right;\n",
       "    }\n",
       "</style>\n",
       "<table border=\"1\" class=\"dataframe\">\n",
       "  <thead>\n",
       "    <tr style=\"text-align: right;\">\n",
       "      <th></th>\n",
       "      <th>Id</th>\n",
       "      <th>Pregnancies</th>\n",
       "      <th>Glucose</th>\n",
       "      <th>BloodPressure</th>\n",
       "      <th>SkinThickness</th>\n",
       "      <th>Insulin</th>\n",
       "      <th>BMI</th>\n",
       "      <th>DiabetesPedigreeFunction</th>\n",
       "      <th>Age</th>\n",
       "      <th>Outcome</th>\n",
       "    </tr>\n",
       "  </thead>\n",
       "  <tbody>\n",
       "    <tr>\n",
       "      <th>count</th>\n",
       "      <td>2768.000000</td>\n",
       "      <td>2768.000000</td>\n",
       "      <td>2768.000000</td>\n",
       "      <td>2768.000000</td>\n",
       "      <td>2768.000000</td>\n",
       "      <td>2768.000000</td>\n",
       "      <td>2768.000000</td>\n",
       "      <td>2768.000000</td>\n",
       "      <td>2768.000000</td>\n",
       "      <td>2768.000000</td>\n",
       "    </tr>\n",
       "    <tr>\n",
       "      <th>mean</th>\n",
       "      <td>1384.500000</td>\n",
       "      <td>3.742775</td>\n",
       "      <td>121.102601</td>\n",
       "      <td>69.134393</td>\n",
       "      <td>20.824422</td>\n",
       "      <td>80.127890</td>\n",
       "      <td>32.137392</td>\n",
       "      <td>0.471193</td>\n",
       "      <td>33.132225</td>\n",
       "      <td>0.343931</td>\n",
       "    </tr>\n",
       "    <tr>\n",
       "      <th>std</th>\n",
       "      <td>799.197097</td>\n",
       "      <td>3.323801</td>\n",
       "      <td>32.036508</td>\n",
       "      <td>19.231438</td>\n",
       "      <td>16.059596</td>\n",
       "      <td>112.301933</td>\n",
       "      <td>8.076127</td>\n",
       "      <td>0.325669</td>\n",
       "      <td>11.777230</td>\n",
       "      <td>0.475104</td>\n",
       "    </tr>\n",
       "    <tr>\n",
       "      <th>min</th>\n",
       "      <td>1.000000</td>\n",
       "      <td>0.000000</td>\n",
       "      <td>0.000000</td>\n",
       "      <td>0.000000</td>\n",
       "      <td>0.000000</td>\n",
       "      <td>0.000000</td>\n",
       "      <td>0.000000</td>\n",
       "      <td>0.078000</td>\n",
       "      <td>21.000000</td>\n",
       "      <td>0.000000</td>\n",
       "    </tr>\n",
       "    <tr>\n",
       "      <th>25%</th>\n",
       "      <td>692.750000</td>\n",
       "      <td>1.000000</td>\n",
       "      <td>99.000000</td>\n",
       "      <td>62.000000</td>\n",
       "      <td>0.000000</td>\n",
       "      <td>0.000000</td>\n",
       "      <td>27.300000</td>\n",
       "      <td>0.244000</td>\n",
       "      <td>24.000000</td>\n",
       "      <td>0.000000</td>\n",
       "    </tr>\n",
       "    <tr>\n",
       "      <th>50%</th>\n",
       "      <td>1384.500000</td>\n",
       "      <td>3.000000</td>\n",
       "      <td>117.000000</td>\n",
       "      <td>72.000000</td>\n",
       "      <td>23.000000</td>\n",
       "      <td>37.000000</td>\n",
       "      <td>32.200000</td>\n",
       "      <td>0.375000</td>\n",
       "      <td>29.000000</td>\n",
       "      <td>0.000000</td>\n",
       "    </tr>\n",
       "    <tr>\n",
       "      <th>75%</th>\n",
       "      <td>2076.250000</td>\n",
       "      <td>6.000000</td>\n",
       "      <td>141.000000</td>\n",
       "      <td>80.000000</td>\n",
       "      <td>32.000000</td>\n",
       "      <td>130.000000</td>\n",
       "      <td>36.625000</td>\n",
       "      <td>0.624000</td>\n",
       "      <td>40.000000</td>\n",
       "      <td>1.000000</td>\n",
       "    </tr>\n",
       "    <tr>\n",
       "      <th>max</th>\n",
       "      <td>2768.000000</td>\n",
       "      <td>17.000000</td>\n",
       "      <td>199.000000</td>\n",
       "      <td>122.000000</td>\n",
       "      <td>110.000000</td>\n",
       "      <td>846.000000</td>\n",
       "      <td>80.600000</td>\n",
       "      <td>2.420000</td>\n",
       "      <td>81.000000</td>\n",
       "      <td>1.000000</td>\n",
       "    </tr>\n",
       "  </tbody>\n",
       "</table>\n",
       "</div>"
      ],
      "text/plain": [
       "                Id  Pregnancies      Glucose  BloodPressure  SkinThickness  \\\n",
       "count  2768.000000  2768.000000  2768.000000    2768.000000    2768.000000   \n",
       "mean   1384.500000     3.742775   121.102601      69.134393      20.824422   \n",
       "std     799.197097     3.323801    32.036508      19.231438      16.059596   \n",
       "min       1.000000     0.000000     0.000000       0.000000       0.000000   \n",
       "25%     692.750000     1.000000    99.000000      62.000000       0.000000   \n",
       "50%    1384.500000     3.000000   117.000000      72.000000      23.000000   \n",
       "75%    2076.250000     6.000000   141.000000      80.000000      32.000000   \n",
       "max    2768.000000    17.000000   199.000000     122.000000     110.000000   \n",
       "\n",
       "           Insulin          BMI  DiabetesPedigreeFunction          Age  \\\n",
       "count  2768.000000  2768.000000               2768.000000  2768.000000   \n",
       "mean     80.127890    32.137392                  0.471193    33.132225   \n",
       "std     112.301933     8.076127                  0.325669    11.777230   \n",
       "min       0.000000     0.000000                  0.078000    21.000000   \n",
       "25%       0.000000    27.300000                  0.244000    24.000000   \n",
       "50%      37.000000    32.200000                  0.375000    29.000000   \n",
       "75%     130.000000    36.625000                  0.624000    40.000000   \n",
       "max     846.000000    80.600000                  2.420000    81.000000   \n",
       "\n",
       "           Outcome  \n",
       "count  2768.000000  \n",
       "mean      0.343931  \n",
       "std       0.475104  \n",
       "min       0.000000  \n",
       "25%       0.000000  \n",
       "50%       0.000000  \n",
       "75%       1.000000  \n",
       "max       1.000000  "
      ]
     },
     "execution_count": 8,
     "metadata": {},
     "output_type": "execute_result"
    }
   ],
   "source": [
    "df.describe()"
   ]
  },
  {
   "cell_type": "code",
   "execution_count": 9,
   "id": "46e7ce0c",
   "metadata": {},
   "outputs": [
    {
     "data": {
      "text/plain": [
       "Id                          0\n",
       "Pregnancies                 0\n",
       "Glucose                     0\n",
       "BloodPressure               0\n",
       "SkinThickness               0\n",
       "Insulin                     0\n",
       "BMI                         0\n",
       "DiabetesPedigreeFunction    0\n",
       "Age                         0\n",
       "Outcome                     0\n",
       "dtype: int64"
      ]
     },
     "execution_count": 9,
     "metadata": {},
     "output_type": "execute_result"
    }
   ],
   "source": [
    "df.isna().sum() # Check for missing values"
   ]
  },
  {
   "cell_type": "code",
   "execution_count": 10,
   "id": "6d5dc8a3",
   "metadata": {},
   "outputs": [
    {
     "data": {
      "text/plain": [
       "0"
      ]
     },
     "execution_count": 10,
     "metadata": {},
     "output_type": "execute_result"
    }
   ],
   "source": [
    "df.duplicated().sum() # Check for duplicate data"
   ]
  },
  {
   "cell_type": "markdown",
   "id": "b23278f4",
   "metadata": {},
   "source": [
    "### Exploratory Data Analysis"
   ]
  },
  {
   "cell_type": "code",
   "execution_count": 11,
   "id": "c06852a3",
   "metadata": {},
   "outputs": [
    {
     "data": {
      "text/plain": [
       "0    1816\n",
       "1     952\n",
       "Name: Outcome, dtype: int64"
      ]
     },
     "execution_count": 11,
     "metadata": {},
     "output_type": "execute_result"
    }
   ],
   "source": [
    "df['Outcome'].value_counts()"
   ]
  },
  {
   "cell_type": "code",
   "execution_count": 12,
   "id": "c54eda15",
   "metadata": {},
   "outputs": [
    {
     "data": {
      "image/png": "[encoded data removed]",
      "text/plain": [
       "<Figure size 1000x500 with 1 Axes>"
      ]
     },
     "metadata": {},
     "output_type": "display_data"
    }
   ],
   "source": [
    "import matplotlib.pyplot as plt\n",
    "import seaborn as sns\n",
    "plt.figure(figsize = (10, 5))\n",
    "sns.countplot(df, x='Outcome')\n",
    "plt.title('The distribution of the class Label')\n",
    "plt.xlabel('Diabetes Outcome')\n",
    "plt.ylabel('Outcome Frequency')\n",
    "plt.show()"
   ]
  },
  {
   "cell_type": "markdown",
   "id": "1bcd3938",
   "metadata": {},
   "source": [
    "### Data Preprocessing"
   ]
  },
  {
   "cell_type": "code",
   "execution_count": 13,
   "id": "2c8cd8b1",
   "metadata": {},
   "outputs": [
    {
     "data": {
      "text/html": [
       "<div>\n",
       "<style scoped>\n",
       "    .dataframe tbody tr th:only-of-type {\n",
       "        vertical-align: middle;\n",
       "    }\n",
       "\n",
       "    .dataframe tbody tr th {\n",
       "        vertical-align: top;\n",
       "    }\n",
       "\n",
       "    .dataframe thead th {\n",
       "        text-align: right;\n",
       "    }\n",
       "</style>\n",
       "<table border=\"1\" class=\"dataframe\">\n",
       "  <thead>\n",
       "    <tr style=\"text-align: right;\">\n",
       "      <th></th>\n",
       "      <th>Pregnancies</th>\n",
       "      <th>Glucose</th>\n",
       "      <th>BloodPressure</th>\n",
       "      <th>SkinThickness</th>\n",
       "      <th>Insulin</th>\n",
       "      <th>BMI</th>\n",
       "      <th>DiabetesPedigreeFunction</th>\n",
       "      <th>Age</th>\n",
       "      <th>Outcome</th>\n",
       "    </tr>\n",
       "  </thead>\n",
       "  <tbody>\n",
       "    <tr>\n",
       "      <th>0</th>\n",
       "      <td>6</td>\n",
       "      <td>148</td>\n",
       "      <td>72</td>\n",
       "      <td>35</td>\n",
       "      <td>0</td>\n",
       "      <td>33.6</td>\n",
       "      <td>0.627</td>\n",
       "      <td>50</td>\n",
       "      <td>1</td>\n",
       "    </tr>\n",
       "    <tr>\n",
       "      <th>1</th>\n",
       "      <td>1</td>\n",
       "      <td>85</td>\n",
       "      <td>66</td>\n",
       "      <td>29</td>\n",
       "      <td>0</td>\n",
       "      <td>26.6</td>\n",
       "      <td>0.351</td>\n",
       "      <td>31</td>\n",
       "      <td>0</td>\n",
       "    </tr>\n",
       "    <tr>\n",
       "      <th>2</th>\n",
       "      <td>8</td>\n",
       "      <td>183</td>\n",
       "      <td>64</td>\n",
       "      <td>0</td>\n",
       "      <td>0</td>\n",
       "      <td>23.3</td>\n",
       "      <td>0.672</td>\n",
       "      <td>32</td>\n",
       "      <td>1</td>\n",
       "    </tr>\n",
       "    <tr>\n",
       "      <th>3</th>\n",
       "      <td>1</td>\n",
       "      <td>89</td>\n",
       "      <td>66</td>\n",
       "      <td>23</td>\n",
       "      <td>94</td>\n",
       "      <td>28.1</td>\n",
       "      <td>0.167</td>\n",
       "      <td>21</td>\n",
       "      <td>0</td>\n",
       "    </tr>\n",
       "    <tr>\n",
       "      <th>4</th>\n",
       "      <td>0</td>\n",
       "      <td>137</td>\n",
       "      <td>40</td>\n",
       "      <td>35</td>\n",
       "      <td>168</td>\n",
       "      <td>43.1</td>\n",
       "      <td>2.288</td>\n",
       "      <td>33</td>\n",
       "      <td>1</td>\n",
       "    </tr>\n",
       "  </tbody>\n",
       "</table>\n",
       "</div>"
      ],
      "text/plain": [
       "   Pregnancies  Glucose  BloodPressure  SkinThickness  Insulin   BMI  \\\n",
       "0            6      148             72             35        0  33.6   \n",
       "1            1       85             66             29        0  26.6   \n",
       "2            8      183             64              0        0  23.3   \n",
       "3            1       89             66             23       94  28.1   \n",
       "4            0      137             40             35      168  43.1   \n",
       "\n",
       "   DiabetesPedigreeFunction  Age  Outcome  \n",
       "0                     0.627   50        1  \n",
       "1                     0.351   31        0  \n",
       "2                     0.672   32        1  \n",
       "3                     0.167   21        0  \n",
       "4                     2.288   33        1  "
      ]
     },
     "execution_count": 13,
     "metadata": {},
     "output_type": "execute_result"
    }
   ],
   "source": [
    "df.drop('Id', axis = 1, inplace = True) # Drop the Id feature as it will not be required in our modeling\n",
    "df.head()"
   ]
  },
  {
   "cell_type": "markdown",
   "id": "795cba81",
   "metadata": {},
   "source": [
    "### Check the correllation between each independent feature and the label (Outcome)"
   ]
  },
  {
   "cell_type": "code",
   "execution_count": 14,
   "id": "be4b6e5a",
   "metadata": {},
   "outputs": [
    {
     "data": {
      "image/png": "[encoded data removed]",
      "text/plain": [
       "<Figure size 1000x800 with 2 Axes>"
      ]
     },
     "metadata": {},
     "output_type": "display_data"
    }
   ],
   "source": [
    "correlation_matrix = df.corr()\n",
    "plt.figure(figsize=(10, 8))\n",
    "sns.heatmap(correlation_matrix, annot=True, cmap='coolwarm', fmt='.2f', linewidths=0.5)\n",
    "plt.title('Correlation Heatmap')\n",
    "plt.show()"
   ]
  },
  {
   "cell_type": "markdown",
   "id": "b042ea5b",
   "metadata": {},
   "source": [
    "### Break the dataset into independent and dependent variables (Features and Label)"
   ]
  },
  {
   "cell_type": "code",
   "execution_count": 15,
   "id": "5edf07d4",
   "metadata": {},
   "outputs": [],
   "source": [
    "# the independent variables - inputs are made up of 8 features\n",
    "features = df.drop('Outcome', axis = 1) # Independent variables\n",
    "label = df['Outcome'] # Dependent variable"
   ]
  },
  {
   "cell_type": "code",
   "execution_count": 16,
   "id": "6c28545b",
   "metadata": {},
   "outputs": [
    {
     "data": {
      "text/html": [
       "<div>\n",
       "<style scoped>\n",
       "    .dataframe tbody tr th:only-of-type {\n",
       "        vertical-align: middle;\n",
       "    }\n",
       "\n",
       "    .dataframe tbody tr th {\n",
       "        vertical-align: top;\n",
       "    }\n",
       "\n",
       "    .dataframe thead th {\n",
       "        text-align: right;\n",
       "    }\n",
       "</style>\n",
       "<table border=\"1\" class=\"dataframe\">\n",
       "  <thead>\n",
       "    <tr style=\"text-align: right;\">\n",
       "      <th></th>\n",
       "      <th>Pregnancies</th>\n",
       "      <th>Glucose</th>\n",
       "      <th>BloodPressure</th>\n",
       "      <th>SkinThickness</th>\n",
       "      <th>Insulin</th>\n",
       "      <th>BMI</th>\n",
       "      <th>DiabetesPedigreeFunction</th>\n",
       "      <th>Age</th>\n",
       "    </tr>\n",
       "  </thead>\n",
       "  <tbody>\n",
       "    <tr>\n",
       "      <th>0</th>\n",
       "      <td>6</td>\n",
       "      <td>148</td>\n",
       "      <td>72</td>\n",
       "      <td>35</td>\n",
       "      <td>0</td>\n",
       "      <td>33.6</td>\n",
       "      <td>0.627</td>\n",
       "      <td>50</td>\n",
       "    </tr>\n",
       "    <tr>\n",
       "      <th>1</th>\n",
       "      <td>1</td>\n",
       "      <td>85</td>\n",
       "      <td>66</td>\n",
       "      <td>29</td>\n",
       "      <td>0</td>\n",
       "      <td>26.6</td>\n",
       "      <td>0.351</td>\n",
       "      <td>31</td>\n",
       "    </tr>\n",
       "    <tr>\n",
       "      <th>2</th>\n",
       "      <td>8</td>\n",
       "      <td>183</td>\n",
       "      <td>64</td>\n",
       "      <td>0</td>\n",
       "      <td>0</td>\n",
       "      <td>23.3</td>\n",
       "      <td>0.672</td>\n",
       "      <td>32</td>\n",
       "    </tr>\n",
       "    <tr>\n",
       "      <th>3</th>\n",
       "      <td>1</td>\n",
       "      <td>89</td>\n",
       "      <td>66</td>\n",
       "      <td>23</td>\n",
       "      <td>94</td>\n",
       "      <td>28.1</td>\n",
       "      <td>0.167</td>\n",
       "      <td>21</td>\n",
       "    </tr>\n",
       "    <tr>\n",
       "      <th>4</th>\n",
       "      <td>0</td>\n",
       "      <td>137</td>\n",
       "      <td>40</td>\n",
       "      <td>35</td>\n",
       "      <td>168</td>\n",
       "      <td>43.1</td>\n",
       "      <td>2.288</td>\n",
       "      <td>33</td>\n",
       "    </tr>\n",
       "  </tbody>\n",
       "</table>\n",
       "</div>"
      ],
      "text/plain": [
       "   Pregnancies  Glucose  BloodPressure  SkinThickness  Insulin   BMI  \\\n",
       "0            6      148             72             35        0  33.6   \n",
       "1            1       85             66             29        0  26.6   \n",
       "2            8      183             64              0        0  23.3   \n",
       "3            1       89             66             23       94  28.1   \n",
       "4            0      137             40             35      168  43.1   \n",
       "\n",
       "   DiabetesPedigreeFunction  Age  \n",
       "0                     0.627   50  \n",
       "1                     0.351   31  \n",
       "2                     0.672   32  \n",
       "3                     0.167   21  \n",
       "4                     2.288   33  "
      ]
     },
     "execution_count": 16,
     "metadata": {},
     "output_type": "execute_result"
    }
   ],
   "source": [
    "# Explore the feature variables\n",
    "features.head()"
   ]
  },
  {
   "cell_type": "code",
   "execution_count": 17,
   "id": "4ad7d4a3",
   "metadata": {},
   "outputs": [
    {
     "data": {
      "text/plain": [
       "0    1\n",
       "1    0\n",
       "2    1\n",
       "3    0\n",
       "4    1\n",
       "Name: Outcome, dtype: int64"
      ]
     },
     "execution_count": 17,
     "metadata": {},
     "output_type": "execute_result"
    }
   ],
   "source": [
    "# explore the label variable\n",
    "label.head()"
   ]
  },
  {
   "cell_type": "markdown",
   "id": "f7374a98",
   "metadata": {},
   "source": [
    "### Preprocessing- Split the dataset into training and test data"
   ]
  },
  {
   "cell_type": "code",
   "execution_count": 18,
   "id": "8c615615",
   "metadata": {},
   "outputs": [
    {
     "name": "stdout",
     "output_type": "stream",
     "text": [
      "The training dataset:\t (1937, 8)\n",
      "The test dataset:\t (831, 8)\n"
     ]
    }
   ],
   "source": [
    "# split the dataset into training and testing data\n",
    "X_train, X_test, y_train, y_test = train_test_split(features, label, test_size = 0.3, stratify=label, random_state=0)\n",
    "print(f'The training dataset:\\t {X_train.shape}')\n",
    "print(f'The test dataset:\\t {X_test.shape}')"
   ]
  },
  {
   "cell_type": "markdown",
   "id": "80411b37",
   "metadata": {},
   "source": [
    "### Data balancing"
   ]
  },
  {
   "cell_type": "code",
   "execution_count": 19,
   "id": "15711ada",
   "metadata": {},
   "outputs": [],
   "source": [
    "\n",
    "resampler = SMOTE(random_state = 0)\n",
    "\n",
    "X_train_resampled, y_train_resampled = resampler.fit_resample(X_train, y_train) # Resample the training dataset"
   ]
  },
  {
   "cell_type": "code",
   "execution_count": 20,
   "id": "d1a453ac",
   "metadata": {},
   "outputs": [
    {
     "data": {
      "image/png": "[encoded data removed]",
      "text/plain": [
       "<Figure size 640x480 with 1 Axes>"
      ]
     },
     "metadata": {},
     "output_type": "display_data"
    }
   ],
   "source": [
    "sns.countplot(x = y_train_resampled)\n",
    "plt.title('Outcome Redistribution')\n",
    "plt.xlabel('Diabetes Outcome')\n",
    "plt.ylabel('Outcome Status Frequency')\n",
    "plt.show()"
   ]
  },
  {
   "cell_type": "markdown",
   "id": "225e59d0",
   "metadata": {},
   "source": [
    "### Decision Tree Model"
   ]
  },
  {
   "cell_type": "code",
   "execution_count": 21,
   "id": "bf5fb14d",
   "metadata": {},
   "outputs": [
    {
     "name": "stdout",
     "output_type": "stream",
     "text": [
      "{'ccp_alpha': 0.0, 'class_weight': None, 'criterion': 'gini', 'max_depth': None, 'max_features': None, 'max_leaf_nodes': None, 'min_impurity_decrease': 0.0, 'min_samples_leaf': 1, 'min_samples_split': 2, 'min_weight_fraction_leaf': 0.0, 'random_state': None, 'splitter': 'best'}\n"
     ]
    }
   ],
   "source": [
    "print(DecisionTreeClassifier().get_params())"
   ]
  },
  {
   "cell_type": "code",
   "execution_count": 22,
   "id": "e0edff7b",
   "metadata": {
    "scrolled": true
   },
   "outputs": [
    {
     "name": "stdout",
     "output_type": "stream",
     "text": [
      "Fitting 5 folds for each of 18 candidates, totalling 90 fits\n",
      "Grid search took 14 seconds\n",
      "Best parameters found: {'criterion': 'entropy', 'max_depth': 20, 'min_samples_leaf': 1}\n",
      "Best accuracy score: 0.9579065018640843%\n"
     ]
    }
   ],
   "source": [
    "# Define the DecisionTreeClassifier\n",
    "dt = DecisionTreeClassifier(random_state=42)\n",
    "\n",
    "# Define the parameter grid\n",
    "params = {\n",
    "    'max_depth': [20,30, 40],\n",
    "    'min_samples_leaf': [1, 5,10],\n",
    "    'criterion': ['gini', 'entropy']\n",
    "}\n",
    "\n",
    "# Instantiate the GridSearchCV object\n",
    "grid_search_dt = GridSearchCV(estimator=dt,\n",
    "                              param_grid=params,\n",
    "                              cv=5,\n",
    "                              n_jobs=-1,\n",
    "                              verbose=1,\n",
    "                              scoring=\"accuracy\")\n",
    "\n",
    "# Measure the time taken for fitting the model\n",
    "start_time = time.time()\n",
    "grid_search_dt.fit(X_train_resampled, y_train_resampled)\n",
    "end_time = time.time()\n",
    "\n",
    "# Print the time taken\n",
    "print(f\"Grid search took {round(end_time - start_time)} seconds\")\n",
    "best_score = (grid_search_dt.best_score_)\n",
    "\n",
    "print(f\"Best parameters found: {grid_search_dt.best_params_}\")\n",
    "print(f\"Best accuracy score: {best_score}%\")"
   ]
  },
  {
   "cell_type": "markdown",
   "id": "554a670b",
   "metadata": {},
   "source": [
    "### Use the best hyperparameters from the above gridsearch cross validation to train the model"
   ]
  },
  {
   "cell_type": "code",
   "execution_count": 23,
   "id": "83e0826b",
   "metadata": {},
   "outputs": [
    {
     "data": {
      "text/html": [
       "<style>#sk-container-id-1 {color: black;}#sk-container-id-1 pre{padding: 0;}#sk-container-id-1 div.sk-toggleable {background-color: white;}#sk-container-id-1 label.sk-toggleable__label {cursor: pointer;display: block;width: 100%;margin-bottom: 0;padding: 0.3em;box-sizing: border-box;text-align: center;}#sk-container-id-1 label.sk-toggleable__label-arrow:before {content: \"▸\";float: left;margin-right: 0.25em;color: #696969;}#sk-container-id-1 label.sk-toggleable__label-arrow:hover:before {color: black;}#sk-container-id-1 div.sk-estimator:hover label.sk-toggleable__label-arrow:before {color: black;}#sk-container-id-1 div.sk-toggleable__content {max-height: 0;max-width: 0;overflow: hidden;text-align: left;background-color: #f0f8ff;}#sk-container-id-1 div.sk-toggleable__content pre {margin: 0.2em;color: black;border-radius: 0.25em;background-color: #f0f8ff;}#sk-container-id-1 input.sk-toggleable__control:checked~div.sk-toggleable__content {max-height: 200px;max-width: 100%;overflow: auto;}#sk-container-id-1 input.sk-toggleable__control:checked~label.sk-toggleable__label-arrow:before {content: \"▾\";}#sk-container-id-1 div.sk-estimator input.sk-toggleable__control:checked~label.sk-toggleable__label {background-color: #d4ebff;}#sk-container-id-1 div.sk-label input.sk-toggleable__control:checked~label.sk-toggleable__label {background-color: #d4ebff;}#sk-container-id-1 input.sk-hidden--visually {border: 0;clip: rect(1px 1px 1px 1px);clip: rect(1px, 1px, 1px, 1px);height: 1px;margin: -1px;overflow: hidden;padding: 0;position: absolute;width: 1px;}#sk-container-id-1 div.sk-estimator {font-family: monospace;background-color: #f0f8ff;border: 1px dotted black;border-radius: 0.25em;box-sizing: border-box;margin-bottom: 0.5em;}#sk-container-id-1 div.sk-estimator:hover {background-color: #d4ebff;}#sk-container-id-1 div.sk-parallel-item::after {content: \"\";width: 100%;border-bottom: 1px solid gray;flex-grow: 1;}#sk-container-id-1 div.sk-label:hover label.sk-toggleable__label {background-color: #d4ebff;}#sk-container-id-1 div.sk-serial::before {content: \"\";position: absolute;border-left: 1px solid gray;box-sizing: border-box;top: 0;bottom: 0;left: 50%;z-index: 0;}#sk-container-id-1 div.sk-serial {display: flex;flex-direction: column;align-items: center;background-color: white;padding-right: 0.2em;padding-left: 0.2em;position: relative;}#sk-container-id-1 div.sk-item {position: relative;z-index: 1;}#sk-container-id-1 div.sk-parallel {display: flex;align-items: stretch;justify-content: center;background-color: white;position: relative;}#sk-container-id-1 div.sk-item::before, #sk-container-id-1 div.sk-parallel-item::before {content: \"\";position: absolute;border-left: 1px solid gray;box-sizing: border-box;top: 0;bottom: 0;left: 50%;z-index: -1;}#sk-container-id-1 div.sk-parallel-item {display: flex;flex-direction: column;z-index: 1;position: relative;background-color: white;}#sk-container-id-1 div.sk-parallel-item:first-child::after {align-self: flex-end;width: 50%;}#sk-container-id-1 div.sk-parallel-item:last-child::after {align-self: flex-start;width: 50%;}#sk-container-id-1 div.sk-parallel-item:only-child::after {width: 0;}#sk-container-id-1 div.sk-dashed-wrapped {border: 1px dashed gray;margin: 0 0.4em 0.5em 0.4em;box-sizing: border-box;padding-bottom: 0.4em;background-color: white;}#sk-container-id-1 div.sk-label label {font-family: monospace;font-weight: bold;display: inline-block;line-height: 1.2em;}#sk-container-id-1 div.sk-label-container {text-align: center;}#sk-container-id-1 div.sk-container {/* jupyter's `normalize.less` sets `[hidden] { display: none; }` but bootstrap.min.css set `[hidden] { display: none !important; }` so we also need the `!important` here to be able to override the default hidden behavior on the sphinx rendered scikit-learn.org. See: https://github.com/scikit-learn/scikit-learn/issues/21755 */display: inline-block !important;position: relative;}#sk-container-id-1 div.sk-text-repr-fallback {display: none;}</style><div id=\"sk-container-id-1\" class=\"sk-top-container\"><div class=\"sk-text-repr-fallback\"><pre>DecisionTreeClassifier(criterion=&#x27;entropy&#x27;, max_depth=20, random_state=0)</pre><b>In a Jupyter environment, please rerun this cell to show the HTML representation or trust the notebook. <br />On GitHub, the HTML representation is unable to render, please try loading this page with nbviewer.org.</b></div><div class=\"sk-container\" hidden><div class=\"sk-item\"><div class=\"sk-estimator sk-toggleable\"><input class=\"sk-toggleable__control sk-hidden--visually\" id=\"sk-estimator-id-1\" type=\"checkbox\" checked><label for=\"sk-estimator-id-1\" class=\"sk-toggleable__label sk-toggleable__label-arrow\">DecisionTreeClassifier</label><div class=\"sk-toggleable__content\"><pre>DecisionTreeClassifier(criterion=&#x27;entropy&#x27;, max_depth=20, random_state=0)</pre></div></div></div></div></div>"
      ],
      "text/plain": [
       "DecisionTreeClassifier(criterion='entropy', max_depth=20, random_state=0)"
      ]
     },
     "execution_count": 23,
     "metadata": {},
     "output_type": "execute_result"
    }
   ],
   "source": [
    "classifier_dt = DecisionTreeClassifier(criterion = 'entropy',max_depth = 20, min_samples_leaf = 1, random_state = 0) # model with default parameters\n",
    "classifier_dt.fit(X_train_resampled, y_train_resampled)"
   ]
  },
  {
   "cell_type": "markdown",
   "id": "9a814070",
   "metadata": {},
   "source": [
    "### Use the model to make prediction on the training data"
   ]
  },
  {
   "cell_type": "code",
   "execution_count": 24,
   "id": "6fc7218d",
   "metadata": {},
   "outputs": [
    {
     "name": "stdout",
     "output_type": "stream",
     "text": [
      "The accuracy of the prediction of the model is 100.0%\n",
      "\n",
      "\n",
      "Decision Tree Model on Train Data Confusion Matrix:\n",
      "[[1271    0]\n",
      " [   0  666]] \n",
      "\n",
      "\n",
      "Decision Tree Classification Report: \n",
      "\n",
      "======================================================\n",
      "              precision    recall  f1-score   support\n",
      "\n",
      "           0       1.00      1.00      1.00      1271\n",
      "           1       1.00      1.00      1.00       666\n",
      "\n",
      "    accuracy                           1.00      1937\n",
      "   macro avg       1.00      1.00      1.00      1937\n",
      "weighted avg       1.00      1.00      1.00      1937\n",
      "\n",
      "======================================================\n"
     ]
    },
    {
     "data": {
      "image/png": "[encoded data removed]",
      "text/plain": [
       "<Figure size 800x500 with 2 Axes>"
      ]
     },
     "metadata": {},
     "output_type": "display_data"
    }
   ],
   "source": [
    "# Use model to make predition on the training data\n",
    "y_pred_train = classifier_dt.predict(X_train)\n",
    "\n",
    "\n",
    "pred_acc_decision_tree = round(metrics.accuracy_score(y_train, y_pred_train)*100, 2)# round the result to two decimal places\n",
    "print(f'The accuracy of the prediction of the model is {pred_acc_decision_tree}%\\n\\n')\n",
    "cm = metrics.confusion_matrix(y_train, y_pred_train)\n",
    "print('Decision Tree Model on Train Data Confusion Matrix:')\n",
    "print(cm, '\\n\\n')\n",
    "print('Decision Tree Classification Report: \\n')\n",
    "print('======================================================')\n",
    "result = metrics.classification_report(y_train, y_pred_train)\n",
    "print(result)\n",
    "print('======================================================')\n",
    "\n",
    "plt.figure(figsize = (8,5))\n",
    "ax = sns.heatmap(cm, cmap = 'flare', annot = True, fmt = 'd')\n",
    "plt.xlabel('Prediction Class', fontsize = 12)\n",
    "plt.ylabel('True Class', fontsize = 12)\n",
    "plt.title('Decision Tree Confusion Matrix on Training Data', fontsize = 14)\n",
    "\n",
    "plt.show()"
   ]
  },
  {
   "cell_type": "markdown",
   "id": "6a69f5bc",
   "metadata": {},
   "source": [
    "###### The accuracy of the model on the training data is 100%"
   ]
  },
  {
   "cell_type": "markdown",
   "id": "45bb332f",
   "metadata": {},
   "source": [
    "### Use the model to make prediction with the test data"
   ]
  },
  {
   "cell_type": "code",
   "execution_count": 25,
   "id": "9116e3c5",
   "metadata": {},
   "outputs": [
    {
     "name": "stdout",
     "output_type": "stream",
     "text": [
      "The accuracy of the prediction of the model is 97.23%\n",
      "\n",
      "\n",
      "Decision Tree Model on Train Data Confusion Matrix:\n",
      "[[531  14]\n",
      " [  9 277]] \n",
      "\n",
      "\n",
      "Decision Tree Classification Report: \n",
      "\n",
      "======================================================\n",
      "              precision    recall  f1-score   support\n",
      "\n",
      "           0       0.98      0.97      0.98       545\n",
      "           1       0.95      0.97      0.96       286\n",
      "\n",
      "    accuracy                           0.97       831\n",
      "   macro avg       0.97      0.97      0.97       831\n",
      "weighted avg       0.97      0.97      0.97       831\n",
      "\n",
      "======================================================\n"
     ]
    },
    {
     "data": {
      "image/png": "[encoded data removed]",
      "text/plain": [
       "<Figure size 800x500 with 2 Axes>"
      ]
     },
     "metadata": {},
     "output_type": "display_data"
    }
   ],
   "source": [
    "# Use model to make predition on the training data\n",
    "y_pred_test = classifier_dt.predict(X_test)\n",
    "\n",
    "\n",
    "pred_acc_test = round(metrics.accuracy_score(y_test, y_pred_test)*100, 2)# round the result to two decimal places\n",
    "print(f'The accuracy of the prediction of the model is {pred_acc_test}%\\n\\n')\n",
    "cm = metrics.confusion_matrix(y_test, y_pred_test)\n",
    "print('Decision Tree Model on Train Data Confusion Matrix:')\n",
    "print(cm, '\\n\\n')\n",
    "print('Decision Tree Classification Report: \\n')\n",
    "print('======================================================')\n",
    "result = metrics.classification_report(y_test, y_pred_test)\n",
    "print(result)\n",
    "print('======================================================')\n",
    "\n",
    "plt.figure(figsize = (8,5))\n",
    "ax = sns.heatmap(cm, cmap = 'flare', annot = True, fmt = 'd')\n",
    "plt.xlabel('Prediction Class', fontsize = 12)\n",
    "plt.ylabel('True Class', fontsize = 12)\n",
    "plt.title('Decision Tree Confusion Matrix on Test Data', fontsize = 14)\n",
    "\n",
    "plt.show()"
   ]
  },
  {
   "cell_type": "markdown",
   "id": "21b4759c",
   "metadata": {},
   "source": [
    "### Decision Tree Model Ends Here"
   ]
  },
  {
   "cell_type": "markdown",
   "id": "9ef6a37a",
   "metadata": {},
   "source": [
    "### Random Forest Implementation"
   ]
  },
  {
   "cell_type": "code",
   "execution_count": 27,
   "id": "822292de",
   "metadata": {},
   "outputs": [
    {
     "name": "stdout",
     "output_type": "stream",
     "text": [
      "{'bootstrap': True, 'ccp_alpha': 0.0, 'class_weight': None, 'criterion': 'gini', 'max_depth': None, 'max_features': 'sqrt', 'max_leaf_nodes': None, 'max_samples': None, 'min_impurity_decrease': 0.0, 'min_samples_leaf': 1, 'min_samples_split': 2, 'min_weight_fraction_leaf': 0.0, 'n_estimators': 100, 'n_jobs': None, 'oob_score': False, 'random_state': None, 'verbose': 0, 'warm_start': False}\n"
     ]
    }
   ],
   "source": [
    "rf = RandomForestClassifier()\n",
    "print(rf.get_params())"
   ]
  },
  {
   "cell_type": "code",
   "execution_count": 28,
   "id": "be322648",
   "metadata": {
    "scrolled": true
   },
   "outputs": [
    {
     "name": "stdout",
     "output_type": "stream",
     "text": [
      "Fitting 5 folds for each of 160 candidates, totalling 800 fits\n",
      "Grid search took 166 seconds\n",
      "Best parameters found: {'criterion': 'entropy', 'max_depth': 20, 'min_samples_leaf': 1, 'n_estimators': 100}\n",
      "Best accuracy score: 0.975209226056959\n"
     ]
    }
   ],
   "source": [
    "# Hyperparameters tuning using gridsearch with cross validation to enable us choose the best parameters fr our model\n",
    "rf = RandomForestClassifier(random_state=42)\n",
    "\n",
    "# Define the parameter grid\n",
    "params = {\n",
    "    'criterion': ['gini', 'entropy'],\n",
    "    'max_depth': [5, 10, 15, 20, 25],\n",
    "    'min_samples_leaf': [1, 5, 10, 15],\n",
    "    'n_estimators': [10, 30, 50, 100]\n",
    "}\n",
    "\n",
    "# Instantiate the GridSearchCV object\n",
    "grid_search = GridSearchCV(estimator=rf,\n",
    "                           param_grid=params,\n",
    "                           cv=5,\n",
    "                           n_jobs=-1,\n",
    "                           verbose=1,\n",
    "                           scoring=\"accuracy\")\n",
    "\n",
    "# Measure the time taken for fitting the model\n",
    "start_time = time.time()\n",
    "grid_search.fit(X_train_resampled, y_train_resampled)\n",
    "end_time = time.time()\n",
    "\n",
    "# Print the time taken\n",
    "print(f\"Grid search took {round(end_time - start_time)} seconds\")\n",
    "\n",
    "# If you want to see the best parameters found\n",
    "print(f\"Best parameters found: {grid_search.best_params_}\")\n",
    "print(f\"Best accuracy score: {grid_search.best_score_}\")\n"
   ]
  },
  {
   "cell_type": "markdown",
   "id": "05e605d3",
   "metadata": {
    "scrolled": true
   },
   "source": [
    "### Fit the model into training data"
   ]
  },
  {
   "cell_type": "code",
   "execution_count": 29,
   "id": "7c4e6a17",
   "metadata": {},
   "outputs": [
    {
     "data": {
      "text/html": [
       "<style>#sk-container-id-2 {color: black;}#sk-container-id-2 pre{padding: 0;}#sk-container-id-2 div.sk-toggleable {background-color: white;}#sk-container-id-2 label.sk-toggleable__label {cursor: pointer;display: block;width: 100%;margin-bottom: 0;padding: 0.3em;box-sizing: border-box;text-align: center;}#sk-container-id-2 label.sk-toggleable__label-arrow:before {content: \"▸\";float: left;margin-right: 0.25em;color: #696969;}#sk-container-id-2 label.sk-toggleable__label-arrow:hover:before {color: black;}#sk-container-id-2 div.sk-estimator:hover label.sk-toggleable__label-arrow:before {color: black;}#sk-container-id-2 div.sk-toggleable__content {max-height: 0;max-width: 0;overflow: hidden;text-align: left;background-color: #f0f8ff;}#sk-container-id-2 div.sk-toggleable__content pre {margin: 0.2em;color: black;border-radius: 0.25em;background-color: #f0f8ff;}#sk-container-id-2 input.sk-toggleable__control:checked~div.sk-toggleable__content {max-height: 200px;max-width: 100%;overflow: auto;}#sk-container-id-2 input.sk-toggleable__control:checked~label.sk-toggleable__label-arrow:before {content: \"▾\";}#sk-container-id-2 div.sk-estimator input.sk-toggleable__control:checked~label.sk-toggleable__label {background-color: #d4ebff;}#sk-container-id-2 div.sk-label input.sk-toggleable__control:checked~label.sk-toggleable__label {background-color: #d4ebff;}#sk-container-id-2 input.sk-hidden--visually {border: 0;clip: rect(1px 1px 1px 1px);clip: rect(1px, 1px, 1px, 1px);height: 1px;margin: -1px;overflow: hidden;padding: 0;position: absolute;width: 1px;}#sk-container-id-2 div.sk-estimator {font-family: monospace;background-color: #f0f8ff;border: 1px dotted black;border-radius: 0.25em;box-sizing: border-box;margin-bottom: 0.5em;}#sk-container-id-2 div.sk-estimator:hover {background-color: #d4ebff;}#sk-container-id-2 div.sk-parallel-item::after {content: \"\";width: 100%;border-bottom: 1px solid gray;flex-grow: 1;}#sk-container-id-2 div.sk-label:hover label.sk-toggleable__label {background-color: #d4ebff;}#sk-container-id-2 div.sk-serial::before {content: \"\";position: absolute;border-left: 1px solid gray;box-sizing: border-box;top: 0;bottom: 0;left: 50%;z-index: 0;}#sk-container-id-2 div.sk-serial {display: flex;flex-direction: column;align-items: center;background-color: white;padding-right: 0.2em;padding-left: 0.2em;position: relative;}#sk-container-id-2 div.sk-item {position: relative;z-index: 1;}#sk-container-id-2 div.sk-parallel {display: flex;align-items: stretch;justify-content: center;background-color: white;position: relative;}#sk-container-id-2 div.sk-item::before, #sk-container-id-2 div.sk-parallel-item::before {content: \"\";position: absolute;border-left: 1px solid gray;box-sizing: border-box;top: 0;bottom: 0;left: 50%;z-index: -1;}#sk-container-id-2 div.sk-parallel-item {display: flex;flex-direction: column;z-index: 1;position: relative;background-color: white;}#sk-container-id-2 div.sk-parallel-item:first-child::after {align-self: flex-end;width: 50%;}#sk-container-id-2 div.sk-parallel-item:last-child::after {align-self: flex-start;width: 50%;}#sk-container-id-2 div.sk-parallel-item:only-child::after {width: 0;}#sk-container-id-2 div.sk-dashed-wrapped {border: 1px dashed gray;margin: 0 0.4em 0.5em 0.4em;box-sizing: border-box;padding-bottom: 0.4em;background-color: white;}#sk-container-id-2 div.sk-label label {font-family: monospace;font-weight: bold;display: inline-block;line-height: 1.2em;}#sk-container-id-2 div.sk-label-container {text-align: center;}#sk-container-id-2 div.sk-container {/* jupyter's `normalize.less` sets `[hidden] { display: none; }` but bootstrap.min.css set `[hidden] { display: none !important; }` so we also need the `!important` here to be able to override the default hidden behavior on the sphinx rendered scikit-learn.org. See: https://github.com/scikit-learn/scikit-learn/issues/21755 */display: inline-block !important;position: relative;}#sk-container-id-2 div.sk-text-repr-fallback {display: none;}</style><div id=\"sk-container-id-2\" class=\"sk-top-container\"><div class=\"sk-text-repr-fallback\"><pre>RandomForestClassifier(criterion=&#x27;entropy&#x27;, max_depth=20, random_state=42)</pre><b>In a Jupyter environment, please rerun this cell to show the HTML representation or trust the notebook. <br />On GitHub, the HTML representation is unable to render, please try loading this page with nbviewer.org.</b></div><div class=\"sk-container\" hidden><div class=\"sk-item\"><div class=\"sk-estimator sk-toggleable\"><input class=\"sk-toggleable__control sk-hidden--visually\" id=\"sk-estimator-id-2\" type=\"checkbox\" checked><label for=\"sk-estimator-id-2\" class=\"sk-toggleable__label sk-toggleable__label-arrow\">RandomForestClassifier</label><div class=\"sk-toggleable__content\"><pre>RandomForestClassifier(criterion=&#x27;entropy&#x27;, max_depth=20, random_state=42)</pre></div></div></div></div></div>"
      ],
      "text/plain": [
       "RandomForestClassifier(criterion='entropy', max_depth=20, random_state=42)"
      ]
     },
     "execution_count": 29,
     "metadata": {},
     "output_type": "execute_result"
    }
   ],
   "source": [
    "classifier_rf = RandomForestClassifier(criterion = 'entropy', max_depth = 20, n_estimators = 100, min_samples_leaf = 1, random_state=42)\n",
    "classifier_rf.fit(X_train_resampled, y_train_resampled)"
   ]
  },
  {
   "cell_type": "code",
   "execution_count": 30,
   "id": "ff871d29",
   "metadata": {},
   "outputs": [],
   "source": [
    "# Use the trained model to make prediction using the training dataset\n",
    "\n",
    "y_pred_training_rf = classifier_rf.predict(X_train)\n",
    "\n",
    "# y_pred_training_rf"
   ]
  },
  {
   "cell_type": "code",
   "execution_count": 31,
   "id": "de312282",
   "metadata": {
    "scrolled": true
   },
   "outputs": [
    {
     "name": "stdout",
     "output_type": "stream",
     "text": [
      "The accuracy of the prediction of the model is 100.0%\n",
      "\n",
      "\n",
      "Decision Tree Model on Train Data Confusion Matrix:\n",
      "[[1271    0]\n",
      " [   0  666]] \n",
      "\n",
      "\n",
      "Random Forest Classification Report: \n",
      "\n",
      "======================================================\n",
      "              precision    recall  f1-score   support\n",
      "\n",
      "           0       1.00      1.00      1.00      1271\n",
      "           1       1.00      1.00      1.00       666\n",
      "\n",
      "    accuracy                           1.00      1937\n",
      "   macro avg       1.00      1.00      1.00      1937\n",
      "weighted avg       1.00      1.00      1.00      1937\n",
      "\n",
      "======================================================\n"
     ]
    },
    {
     "data": {
      "image/png": "[encoded data removed]",
      "text/plain": [
       "<Figure size 800x500 with 2 Axes>"
      ]
     },
     "metadata": {},
     "output_type": "display_data"
    }
   ],
   "source": [
    "pred_acc_rf = round(metrics.accuracy_score(y_train, y_pred_training_rf)*100, 2)# round the result to two decimal places\n",
    "print(f'The accuracy of the prediction of the model is {pred_acc_rf}%\\n\\n')\n",
    "cm = metrics.confusion_matrix(y_train, y_pred_training_rf)\n",
    "print('Decision Tree Model on Train Data Confusion Matrix:')\n",
    "print(cm, '\\n\\n')\n",
    "print('Random Forest Classification Report: \\n')\n",
    "print('======================================================')\n",
    "result = metrics.classification_report(y_train, y_pred_training_rf)\n",
    "print(result)\n",
    "print('======================================================')\n",
    "\n",
    "plt.figure(figsize = (8,5))\n",
    "ax = sns.heatmap(cm, cmap = 'flare', annot = True, fmt = 'd')\n",
    "plt.xlabel('Prediction Class', fontsize = 12)\n",
    "plt.ylabel('True Class', fontsize = 12)\n",
    "plt.title('Random Forest Confusion Matrix', fontsize = 14)\n",
    "\n",
    "plt.show()"
   ]
  },
  {
   "cell_type": "markdown",
   "id": "2a38b652",
   "metadata": {},
   "source": [
    "### Apply model on test dataset"
   ]
  },
  {
   "cell_type": "code",
   "execution_count": 32,
   "id": "80c1cf2a",
   "metadata": {},
   "outputs": [],
   "source": [
    "# Use model to make predition on the test data\n",
    "y_pred_rf_test = classifier_rf.predict(X_test)"
   ]
  },
  {
   "cell_type": "code",
   "execution_count": 33,
   "id": "332d160f",
   "metadata": {},
   "outputs": [
    {
     "name": "stdout",
     "output_type": "stream",
     "text": [
      "The accuracy of the prediction of the model is 97.83%\n",
      "\n",
      "\n",
      "Random Forest Model on Train Data Confusion Matrix:\n",
      "[[534  11]\n",
      " [  7 279]] \n",
      "\n",
      "\n",
      "Random Forest Classification Report: \n",
      "\n",
      "======================================================\n",
      "              precision    recall  f1-score   support\n",
      "\n",
      "           0       0.99      0.98      0.98       545\n",
      "           1       0.96      0.98      0.97       286\n",
      "\n",
      "    accuracy                           0.98       831\n",
      "   macro avg       0.97      0.98      0.98       831\n",
      "weighted avg       0.98      0.98      0.98       831\n",
      "\n",
      "======================================================\n"
     ]
    },
    {
     "data": {
      "image/png": "[encoded data removed]",
      "text/plain": [
       "<Figure size 800x500 with 2 Axes>"
      ]
     },
     "metadata": {},
     "output_type": "display_data"
    }
   ],
   "source": [
    "pred_acc_rf_test = round(metrics.accuracy_score(y_test, y_pred_rf_test)*100, 2)# round the result to two decimal places\n",
    "print(f'The accuracy of the prediction of the model is {pred_acc_rf_test}%\\n\\n')\n",
    "cm = metrics.confusion_matrix(y_test, y_pred_rf_test)\n",
    "print('Random Forest Model on Train Data Confusion Matrix:')\n",
    "print(cm, '\\n\\n')\n",
    "print('Random Forest Classification Report: \\n')\n",
    "print('======================================================')\n",
    "result = metrics.classification_report(y_test, y_pred_rf_test)\n",
    "print(result)\n",
    "print('======================================================')\n",
    "\n",
    "plt.figure(figsize = (8,5))\n",
    "ax = sns.heatmap(cm, cmap = 'flare', annot = True, fmt = 'd')\n",
    "plt.xlabel('Prediction Class', fontsize = 12)\n",
    "plt.ylabel('True Class', fontsize = 12)\n",
    "plt.title('Random Forest Confusion Matrix', fontsize = 14)\n",
    "\n",
    "plt.show()"
   ]
  },
  {
   "cell_type": "markdown",
   "id": "36e7b83f",
   "metadata": {},
   "source": [
    "### Support Vector Machine Implementation"
   ]
  },
  {
   "cell_type": "markdown",
   "id": "3c4b3bc2",
   "metadata": {},
   "source": [
    "### Hyperparameters Tuning (SVM)"
   ]
  },
  {
   "cell_type": "code",
   "execution_count": 34,
   "id": "27b442c0",
   "metadata": {},
   "outputs": [
    {
     "name": "stdout",
     "output_type": "stream",
     "text": [
      "Fitting 5 folds for each of 4 candidates, totalling 20 fits\n",
      "Grid search took 1649 seconds\n",
      "Best parameters found: {'C': 20, 'kernel': 'rbf'}\n",
      "Best accuracy score: 0.7883521804371703\n"
     ]
    }
   ],
   "source": [
    "from sklearn.svm import SVC\n",
    "# from sklearn.model_selection import GridSearchCV\n",
    "\n",
    "# Define the Support Vector Classifier\n",
    "svc = SVC(random_state=42)\n",
    "\n",
    "# Define the parameter grid\n",
    "params = {\n",
    "    'C': [15,20],\n",
    "    'kernel': ['linear', 'rbf'],\n",
    "#     'gamma': ['scale', 'auto'],\n",
    "#     'degree': [2, 3, 4, 5]  # Only relevant for 'poly' kernel\n",
    "}\n",
    "\n",
    "# Instantiate the GridSearchCV object\n",
    "grid_search = GridSearchCV(estimator=svc,\n",
    "                           param_grid=params,\n",
    "                           cv=5,\n",
    "                           n_jobs=-1,\n",
    "                           verbose=1,\n",
    "                           scoring=\"accuracy\")\n",
    "\n",
    "# Measure the time taken for fitting the model\n",
    "start_time = time.time()\n",
    "grid_search.fit(X_train_resampled, y_train_resampled)\n",
    "end_time = time.time()\n",
    "\n",
    "# Print the time taken\n",
    "print(f\"Grid search took {round(end_time - start_time)} seconds\")\n",
    "\n",
    "# If you want to see the best parameters found\n",
    "print(f\"Best parameters found: {grid_search.best_params_}\")\n",
    "print(f\"Best accuracy score: {grid_search.best_score_}\")\n"
   ]
  },
  {
   "cell_type": "code",
   "execution_count": 35,
   "id": "d999f2b6",
   "metadata": {},
   "outputs": [
    {
     "data": {
      "text/html": [
       "<style>#sk-container-id-3 {color: black;}#sk-container-id-3 pre{padding: 0;}#sk-container-id-3 div.sk-toggleable {background-color: white;}#sk-container-id-3 label.sk-toggleable__label {cursor: pointer;display: block;width: 100%;margin-bottom: 0;padding: 0.3em;box-sizing: border-box;text-align: center;}#sk-container-id-3 label.sk-toggleable__label-arrow:before {content: \"▸\";float: left;margin-right: 0.25em;color: #696969;}#sk-container-id-3 label.sk-toggleable__label-arrow:hover:before {color: black;}#sk-container-id-3 div.sk-estimator:hover label.sk-toggleable__label-arrow:before {color: black;}#sk-container-id-3 div.sk-toggleable__content {max-height: 0;max-width: 0;overflow: hidden;text-align: left;background-color: #f0f8ff;}#sk-container-id-3 div.sk-toggleable__content pre {margin: 0.2em;color: black;border-radius: 0.25em;background-color: #f0f8ff;}#sk-container-id-3 input.sk-toggleable__control:checked~div.sk-toggleable__content {max-height: 200px;max-width: 100%;overflow: auto;}#sk-container-id-3 input.sk-toggleable__control:checked~label.sk-toggleable__label-arrow:before {content: \"▾\";}#sk-container-id-3 div.sk-estimator input.sk-toggleable__control:checked~label.sk-toggleable__label {background-color: #d4ebff;}#sk-container-id-3 div.sk-label input.sk-toggleable__control:checked~label.sk-toggleable__label {background-color: #d4ebff;}#sk-container-id-3 input.sk-hidden--visually {border: 0;clip: rect(1px 1px 1px 1px);clip: rect(1px, 1px, 1px, 1px);height: 1px;margin: -1px;overflow: hidden;padding: 0;position: absolute;width: 1px;}#sk-container-id-3 div.sk-estimator {font-family: monospace;background-color: #f0f8ff;border: 1px dotted black;border-radius: 0.25em;box-sizing: border-box;margin-bottom: 0.5em;}#sk-container-id-3 div.sk-estimator:hover {background-color: #d4ebff;}#sk-container-id-3 div.sk-parallel-item::after {content: \"\";width: 100%;border-bottom: 1px solid gray;flex-grow: 1;}#sk-container-id-3 div.sk-label:hover label.sk-toggleable__label {background-color: #d4ebff;}#sk-container-id-3 div.sk-serial::before {content: \"\";position: absolute;border-left: 1px solid gray;box-sizing: border-box;top: 0;bottom: 0;left: 50%;z-index: 0;}#sk-container-id-3 div.sk-serial {display: flex;flex-direction: column;align-items: center;background-color: white;padding-right: 0.2em;padding-left: 0.2em;position: relative;}#sk-container-id-3 div.sk-item {position: relative;z-index: 1;}#sk-container-id-3 div.sk-parallel {display: flex;align-items: stretch;justify-content: center;background-color: white;position: relative;}#sk-container-id-3 div.sk-item::before, #sk-container-id-3 div.sk-parallel-item::before {content: \"\";position: absolute;border-left: 1px solid gray;box-sizing: border-box;top: 0;bottom: 0;left: 50%;z-index: -1;}#sk-container-id-3 div.sk-parallel-item {display: flex;flex-direction: column;z-index: 1;position: relative;background-color: white;}#sk-container-id-3 div.sk-parallel-item:first-child::after {align-self: flex-end;width: 50%;}#sk-container-id-3 div.sk-parallel-item:last-child::after {align-self: flex-start;width: 50%;}#sk-container-id-3 div.sk-parallel-item:only-child::after {width: 0;}#sk-container-id-3 div.sk-dashed-wrapped {border: 1px dashed gray;margin: 0 0.4em 0.5em 0.4em;box-sizing: border-box;padding-bottom: 0.4em;background-color: white;}#sk-container-id-3 div.sk-label label {font-family: monospace;font-weight: bold;display: inline-block;line-height: 1.2em;}#sk-container-id-3 div.sk-label-container {text-align: center;}#sk-container-id-3 div.sk-container {/* jupyter's `normalize.less` sets `[hidden] { display: none; }` but bootstrap.min.css set `[hidden] { display: none !important; }` so we also need the `!important` here to be able to override the default hidden behavior on the sphinx rendered scikit-learn.org. See: https://github.com/scikit-learn/scikit-learn/issues/21755 */display: inline-block !important;position: relative;}#sk-container-id-3 div.sk-text-repr-fallback {display: none;}</style><div id=\"sk-container-id-3\" class=\"sk-top-container\"><div class=\"sk-text-repr-fallback\"><pre>SVC(random_state=42)</pre><b>In a Jupyter environment, please rerun this cell to show the HTML representation or trust the notebook. <br />On GitHub, the HTML representation is unable to render, please try loading this page with nbviewer.org.</b></div><div class=\"sk-container\" hidden><div class=\"sk-item\"><div class=\"sk-estimator sk-toggleable\"><input class=\"sk-toggleable__control sk-hidden--visually\" id=\"sk-estimator-id-3\" type=\"checkbox\" checked><label for=\"sk-estimator-id-3\" class=\"sk-toggleable__label sk-toggleable__label-arrow\">SVC</label><div class=\"sk-toggleable__content\"><pre>SVC(random_state=42)</pre></div></div></div></div></div>"
      ],
      "text/plain": [
       "SVC(random_state=42)"
      ]
     },
     "execution_count": 35,
     "metadata": {},
     "output_type": "execute_result"
    }
   ],
   "source": [
    "from sklearn import svm\n",
    "classifier_svm = svm.SVC(random_state=42) # model the data\n",
    "classifier_svm.fit(X_train_resampled, y_train_resampled) # fit the training dataset into the model"
   ]
  },
  {
   "cell_type": "code",
   "execution_count": 36,
   "id": "d429affe",
   "metadata": {},
   "outputs": [
    {
     "data": {
      "text/plain": [
       "array([1, 0, 0, ..., 1, 1, 0], dtype=int64)"
      ]
     },
     "execution_count": 36,
     "metadata": {},
     "output_type": "execute_result"
    }
   ],
   "source": [
    "y_pred_svm = classifier_svm.predict(X_train)\n",
    "y_pred_svm"
   ]
  },
  {
   "cell_type": "code",
   "execution_count": 37,
   "id": "80c571d2",
   "metadata": {},
   "outputs": [
    {
     "name": "stdout",
     "output_type": "stream",
     "text": [
      "The accuracy of the training prediction of the model is 78.11%\n",
      "\n",
      "\n",
      "Random Forest Model on Train Data Confusion Matrix:\n",
      "[[1025  246]\n",
      " [ 178  488]] \n",
      "\n",
      "\n",
      "Random Forest Classification Report: \n",
      "\n",
      "======================================================\n",
      "              precision    recall  f1-score   support\n",
      "\n",
      "           0       0.85      0.81      0.83      1271\n",
      "           1       0.66      0.73      0.70       666\n",
      "\n",
      "    accuracy                           0.78      1937\n",
      "   macro avg       0.76      0.77      0.76      1937\n",
      "weighted avg       0.79      0.78      0.78      1937\n",
      "\n",
      "======================================================\n"
     ]
    },
    {
     "data": {
      "image/png": "[encoded data removed]",
      "text/plain": [
       "<Figure size 800x500 with 2 Axes>"
      ]
     },
     "metadata": {},
     "output_type": "display_data"
    }
   ],
   "source": [
    "pred_acc_svm_train = round(metrics.accuracy_score(y_train, y_pred_svm)*100, 2)# round the result to two decimal places\n",
    "print(f'The accuracy of the training prediction of the model is {pred_acc_svm_train}%\\n\\n')\n",
    "cm = metrics.confusion_matrix(y_train, y_pred_svm)\n",
    "print('Random Forest Model on Train Data Confusion Matrix:')\n",
    "print(cm, '\\n\\n')\n",
    "print('Random Forest Classification Report: \\n')\n",
    "print('======================================================')\n",
    "result = metrics.classification_report(y_train, y_pred_svm)\n",
    "print(result)\n",
    "print('======================================================')\n",
    "\n",
    "plt.figure(figsize = (8,5))\n",
    "ax = sns.heatmap(cm, cmap = 'flare', annot = True, fmt = 'd')\n",
    "plt.xlabel('Prediction Class', fontsize = 12)\n",
    "plt.ylabel('True Class', fontsize = 12)\n",
    "plt.title('Support Vector Machine Confusion Matrix', fontsize = 14)\n",
    "\n",
    "plt.show()"
   ]
  },
  {
   "cell_type": "markdown",
   "id": "4c941511",
   "metadata": {},
   "source": [
    "### Use model to predict on test data"
   ]
  },
  {
   "cell_type": "code",
   "execution_count": 38,
   "id": "e8bf74b1",
   "metadata": {},
   "outputs": [
    {
     "name": "stdout",
     "output_type": "stream",
     "text": [
      "The SVM model on test data accuracy:\t\t 74.85%\n",
      "The SVM Confusion Matrix Report\n",
      "[[425 120]\n",
      " [ 89 197]]\n",
      "              precision    recall  f1-score   support\n",
      "\n",
      "           0       0.83      0.78      0.80       545\n",
      "           1       0.62      0.69      0.65       286\n",
      "\n",
      "    accuracy                           0.75       831\n",
      "   macro avg       0.72      0.73      0.73       831\n",
      "weighted avg       0.76      0.75      0.75       831\n",
      "\n"
     ]
    },
    {
     "data": {
      "image/png": "[encoded data removed]",
      "text/plain": [
       "<Figure size 800x500 with 2 Axes>"
      ]
     },
     "metadata": {},
     "output_type": "display_data"
    }
   ],
   "source": [
    "y_pred_svm_test = classifier_svm.predict(X_test)\n",
    "# print(y_pred_svm_test)\n",
    "svm_test_accuracy_score = round(metrics.accuracy_score(y_test, y_pred_svm_test) * 100, 2)\n",
    "\n",
    "print(f'The SVM model on test data accuracy:\\t\\t {svm_test_accuracy_score}%')\n",
    "cm = metrics.confusion_matrix(y_test, y_pred_svm_test)\n",
    "print('The SVM Confusion Matrix Report')\n",
    "print(cm)\n",
    "result = metrics.classification_report(y_test, y_pred_svm_test)\n",
    "print(result)\n",
    "\n",
    "plt.figure(figsize = (8,5))\n",
    "ax = sns.heatmap(cm, cmap = 'flare', annot = True, fmt = 'd')\n",
    "plt.xlabel('Prediction Class', fontsize = 12)\n",
    "plt.ylabel('True Class', fontsize = 12)\n",
    "plt.title('Support Vector Machine Model Performance on Test Data Confusion Matrix', fontsize = 14)\n",
    "\n",
    "plt.show()"
   ]
  },
  {
   "cell_type": "markdown",
   "id": "26d7c9ab",
   "metadata": {},
   "source": [
    "### Test the model with single data"
   ]
  },
  {
   "cell_type": "code",
   "execution_count": 41,
   "id": "c48e75b4",
   "metadata": {},
   "outputs": [],
   "source": [
    "# # Initialise filenames for the different models\n",
    "# filename_dt = 'dt.sav' \n",
    "# filename_sv = 'svm.sav' \n",
    "# filename_rf = 'rf.sav' \n",
    "\n",
    "# # filename = [filename_dt, filename_sv, filename_rf]\n",
    "# model_choice = int(input('Enter Model for Prediction: 1 for Decision Tree, 2 for Random Forest, 3 for Support Vector'))\n",
    "# if model_choice == 1:\n",
    "#     pickle.dump(classifier_dt, open(filename_dt, 'wb'))\n",
    "#     loaded_model = pickle.load(open('dt.sav', 'rb'))\n",
    "# elif model_choice == 2:\n",
    "#     pickle.dump(classifier_svm, open(filename_rf, 'wb'))\n",
    "#     loaded_model = pickle.load(open('svm.sav', 'rb'))\n",
    "# else:\n",
    "#     pickle.dump(classifier_rf, open(filename_sv, 'wb'))\n",
    "#     pickle.dump(classifier_svm, open(filename_sv, 'wb'))\n",
    "\n",
    "# user_input = (1,107,68,19,0,26.5,0.165,24) # Patient data for diagnosis\n",
    "\n",
    "# user_input_np_array = np.asarray(user_input) # convert the input to a numpy array\n",
    "# user_input_reshape = user_input_np_array.reshape(1, -1) # reshape the input_numpy_array\n",
    "\n",
    "# prediction = loaded_model.predict(user_input_reshape)\n",
    "\n",
    "# # print(prediction)\n",
    "# # Decision Tree Model Choice\n",
    "# if prediction[0] == 1 and model_choice == 1:\n",
    "#     print('Diabetes Alert')\n",
    "#     print(f'Accuracy Level: {round(pred_acc_test)}%')\n",
    "#     print(f'Patient is likely to be diabetic')\n",
    "# #     print(filename[i])\n",
    "# elif prediction[0] == 0 and model_choice ==1:\n",
    "#     print('Diabetes Alert')\n",
    "#     print('Patient has a higher chance of not being diabetic at this time')\n",
    "#     print(f'Accuracy Level: {round(pred_acc_test)}%')\n",
    "# #     print(filename[i])\n",
    "\n",
    "# # Random Forest Model Choice\n",
    "# elif prediction[0] == 1 and model_choice == 2:\n",
    "#     print('Diabetes Alert')\n",
    "#     print(f'Accuracy Level: {round(pred_acc_rf_test)}%')\n",
    "#     print(f'Patient is likely to be diabetic')\n",
    "# #     print(filename[i])\n",
    "# elif prediction[0] == 0 and model_choice ==2:\n",
    "#     print('Diabetes Alert')\n",
    "#     print('Patient has a higher chance of not being diabetic at this time')\n",
    "#     print(f'Accuracy Level: {round(pred_acc_rf_test)}%')\n",
    "# #     print(filename[i])\n",
    "\n",
    "# # Support Vector Machine Model Choice\n",
    "# elif prediction[0] == 1 and model_choice == 3:\n",
    "#     print('Diabetes Alert')\n",
    "#     print(f'Accuracy Level: {round(svm_test_accuracy_score)}%')\n",
    "#     print(f'Patient is likely to be diabetic')\n",
    "# #     print(filename[i])\n",
    "# else:\n",
    "#     print('Diabetes Alert')\n",
    "#     print('Patient has a higher chance of not being diabetic at this time')\n",
    "#     print(f'Accuracy Level: {round(svm_test_accuracy_score)}%')\n",
    "# #     print(filename[i])\n",
    "\n",
    "\n",
    "    \n",
    "    \n",
    "    \n",
    "    \n",
    "    \n",
    "   "
   ]
  },
  {
   "cell_type": "code",
   "execution_count": 46,
   "id": "a56f64bc",
   "metadata": {},
   "outputs": [
    {
     "name": "stdout",
     "output_type": "stream",
     "text": [
      "Enter Model for Prediction: 1 for Decision Tree, 2 for Random Forest, 3 for Support Vector: 1\n",
      "Diabetes Alert\n",
      "Accuracy Level: 97%\n",
      "Patient has a higher chance of not being diabetic at this time using Decision Tree\n"
     ]
    }
   ],
   "source": [
    "# Function to save and load models\n",
    "def save_model(model, filename):\n",
    "    pickle.dump(model, open(filename, 'wb'))\n",
    "\n",
    "def load_model(filename):\n",
    "    return pickle.load(open(filename, 'rb'))\n",
    "\n",
    "# Function to predict and print results\n",
    "def predict_diabetes(model, user_input, accuracy, model_name):\n",
    "    user_input_np_array = np.asarray(user_input)  # convert the input to a numpy array\n",
    "    user_input_reshape = user_input_np_array.reshape(1, -1)  # reshape the input_numpy_array\n",
    "\n",
    "    prediction = model.predict(user_input_reshape)\n",
    "\n",
    "    print(\"Diabetes Alert\")\n",
    "    if prediction[0] == 1:\n",
    "        print(f\"Accuracy Level: {round(accuracy)}%\")\n",
    "        print(f\"Patient is likely to be diabetic using {model_name}\")\n",
    "    else:\n",
    "        print(f\"Accuracy Level: {round(accuracy)}%\")\n",
    "        print(f\"Patient has a higher chance of not being diabetic at this time using {model_name}\")\n",
    "\n",
    "# Initialise filenames for the different models\n",
    "filenames = {\n",
    "    1: ('classifier_dt', 'dt.sav', 'Decision Tree', pred_acc_test),\n",
    "    2: ('classifier_rf', 'rf.sav', 'Random Forest', pred_acc_rf_test),\n",
    "    3: ('classifier_svm', 'svm.sav', 'Support Vector Machine', svm_test_accuracy_score)\n",
    "}\n",
    "\n",
    "# User input for model choice\n",
    "model_choice = int(input('Enter Model for Prediction: 1 for Decision Tree, 2 for Random Forest, 3 for Support Vector: '))\n",
    "if model_choice in filenames:\n",
    "    model_var, filename, model_name, accuracy = filenames[model_choice]\n",
    "    \n",
    "    # Save the chosen model\n",
    "    save_model(globals()[model_var], filename)\n",
    "    \n",
    "    # Load the chosen model\n",
    "    loaded_model = load_model(filename)\n",
    "    \n",
    "    # Patient data for diagnosis\n",
    "    user_input = (1, 107, 68, 19, 0, 26.5, 0.165, 24)\n",
    "#     user_input = float(input('Enter required inputs separated by comma'))\n",
    "    # Predict and print results\n",
    "    predict_diabetes(loaded_model, user_input, accuracy, model_name)\n",
    "else:\n",
    "    print(\"Invalid model choice.\")\n"
   ]
  },
  {
   "cell_type": "markdown",
   "id": "4a0d159d",
   "metadata": {},
   "source": [
    "### Models Summary Report on Test Data"
   ]
  },
  {
   "cell_type": "code",
   "execution_count": 43,
   "id": "77abce02",
   "metadata": {},
   "outputs": [
    {
     "name": "stdout",
     "output_type": "stream",
     "text": [
      "==============================================================\n",
      "||\t\tModel Evaluation Accuracy Report\t    ||\n",
      "==============================================================\n",
      "Algorithm            Model Name                \t  Accuracy(%)\n",
      "==============================================================\n",
      "||Decision Tree       ||classifier_dt            ||97.23     ||\n",
      "||Random Forest       ||classifier_rf            ||97.83     ||\n",
      "||Support Vector      ||classifier_svm           ||74.85     ||\n",
      "==============================================================\n"
     ]
    }
   ],
   "source": [
    "alg = ['Decision Tree', 'Random Forest', 'Support Vector']\n",
    "model = ['classifier_dt', 'classifier_rf', 'classifier_svm']\n",
    "\n",
    "print(f'==============================================================')\n",
    "print(f'||\\t\\tModel Evaluation Accuracy Report\\t    ||')\n",
    "print(f'==============================================================')\n",
    "print(f'{\"Algorithm\":<20} {\"Model Name\":<25} \\t  {\"Accuracy(%)\":<10}')\n",
    "print(f'==============================================================')\n",
    "\n",
    "for col in range(len(alg)):\n",
    "    if alg[col] == 'Decision Tree':\n",
    "        print(f'||{alg[col]:<20}||{model[col]:<25}||{pred_acc_test:<10.2f}||')\n",
    "    elif alg[col] == 'Random Forest':\n",
    "        print(f'||{alg[col]:<20}||{model[col]:<25}||{pred_acc_rf_test:<10.2f}||')\n",
    "    else:\n",
    "        print(f'||{alg[col]:<20}||{model[col]:<25}||{svm_test_accuracy_score:<10.2f}||')\n",
    "print(f'==============================================================')"
   ]
  },
  {
   "cell_type": "markdown",
   "id": "c784374c",
   "metadata": {},
   "source": [
    "### Discussion on the outcome"
   ]
  },
  {
   "cell_type": "markdown",
   "id": "3891e0be",
   "metadata": {},
   "source": [
    "###### The three different models were successfully implementat and the accuracy level indicates \n",
    "###### that the least performing model in predicting patient's diabetic status is the Support Vector Machine\n",
    "###### model with an accuracy of 74% while the most efficient model is the Random Forest with an accuracy of\n",
    "###### 98% when applied on the test data. The decision tree model performance is equally commendable just\n",
    "###### a little lesser than the Random Forest model but way higher than the SVM model"
   ]
  },
  {
   "cell_type": "code",
   "execution_count": 74,
   "id": "f6dbf2a1",
   "metadata": {
    "scrolled": true
   },
   "outputs": [
    {
     "data": {
      "text/plain": [
       "array([1, 0, 0, ..., 1, 1, 0], dtype=int64)"
      ]
     },
     "execution_count": 74,
     "metadata": {},
     "output_type": "execute_result"
    }
   ],
   "source": [
    "y_pred_svm.ravel()"
   ]
  },
  {
   "cell_type": "code",
   "execution_count": 73,
   "id": "9f09cd9f",
   "metadata": {},
   "outputs": [
    {
     "data": {
      "text/plain": [
       "1648    0\n",
       "1780    0\n",
       "4       1\n",
       "2678    0\n",
       "153     0\n",
       "       ..\n",
       "2215    0\n",
       "2015    0\n",
       "1959    0\n",
       "2144    1\n",
       "29      0\n",
       "Name: Outcome, Length: 831, dtype: int64"
      ]
     },
     "execution_count": 73,
     "metadata": {},
     "output_type": "execute_result"
    }
   ],
   "source": [
    "y_test"
   ]
  },
  {
   "cell_type": "code",
   "execution_count": null,
   "id": "a82dad93",
   "metadata": {},
   "outputs": [],
   "source": [
    "X_test['Outcome'] = y_test[0]\n",
    "\n",
    "y_pred_rf_test\n",
    "y_pred_svm_test\n",
    "\n",
    "X_test.to_csv('test_dataset_update.csv',index=False)"
   ]
  }
 ],
 "metadata": {
  "kernelspec": {
   "display_name": "Python 3 (ipykernel)",
   "language": "python",
   "name": "python3"
  },
  "language_info": {
   "codemirror_mode": {
    "name": "ipython",
    "version": 3
   },
   "file_extension": ".py",
   "mimetype": "text/x-python",
   "name": "python",
   "nbconvert_exporter": "python",
   "pygments_lexer": "ipython3",
   "version": "3.11.4"
  }
 },
 "nbformat": 4,
 "nbformat_minor": 5
}
